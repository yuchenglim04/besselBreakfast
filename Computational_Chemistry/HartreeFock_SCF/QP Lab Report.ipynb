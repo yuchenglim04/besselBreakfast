{
 "cells": [
  {
   "cell_type": "markdown",
   "id": "8a41588a-6006-4ca6-b46d-a3208fedfa4a",
   "metadata": {},
   "source": [
    "lambda \n",
    "https://stackoverflow.com/questions/58784150/how-to-integrate-sympy-and-numpy-in-python-numpy-array-of-sympy-symbols  \n",
    "Lambdify?\n",
    "\n",
    "fsolve"
   ]
  },
  {
   "cell_type": "markdown",
   "id": "4695a62a-a451-49fc-90f8-3a4d7a319bdd",
   "metadata": {},
   "source": [
    "dynamics runtime code python  exec()\n",
    "https://clay-atlas.com/us/blog/2019/08/20/python-english-dynamic-code-exec/  \n",
    "https://stackoverflow.com/questions/61979286/run-a-dynamic-multi-line-string-of-code-in-python-at-runtime  \n",
    "\n",
    "Python list to numpy arrays  \n",
    "https://www.geeksforgeeks.org/convert-python-list-to-numpy-arrays/\n",
    "\n",
    "use backslash \\ to have multiline code"
   ]
  },
  {
   "cell_type": "markdown",
   "id": "76080ab5-5b14-4146-b166-4c9599e35460",
   "metadata": {},
   "source": [
    "## 2.1.5 26/7\n",
    "Machine precision experiment\n",
    "\n",
    "Machine precision is 2.220446049250313e-16 or $2^_{-52}$"
   ]
  },
  {
   "cell_type": "markdown",
   "id": "b3968358-84cb-4594-9934-98a8325aca7d",
   "metadata": {},
   "source": [
    "## 2.5.2 26/7\n",
    "Sin Taylor series expansion, additive subtraction\n",
    "\n",
    "#### Ncode:\n",
    "\"x**{0} / {0} ! = \".format(2*dummy_n - 1)\n",
    "\n",
    "https://www.w3schools.com/python/ref_string_format.asp"
   ]
  }
 ],
 "metadata": {
  "kernelspec": {
   "display_name": "Python 3",
   "language": "python",
   "name": "python3"
  },
  "language_info": {
   "codemirror_mode": {
    "name": "ipython",
    "version": 3
   },
   "file_extension": ".py",
   "mimetype": "text/x-python",
   "name": "python",
   "nbconvert_exporter": "python",
   "pygments_lexer": "ipython3",
   "version": "3.9.5"
  }
 },
 "nbformat": 4,
 "nbformat_minor": 5
}
