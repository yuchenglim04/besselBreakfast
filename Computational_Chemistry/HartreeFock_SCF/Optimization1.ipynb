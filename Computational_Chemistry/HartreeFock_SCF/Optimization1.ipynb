{
 "cells": [
  {
   "cell_type": "code",
   "execution_count": 1,
   "id": "62245a97-5420-457a-b033-04bce25bad00",
   "metadata": {},
   "outputs": [],
   "source": [
    "import numpy as np\n",
    "import sympy as sy\n",
    "import scipy as sc\n",
    "from scipy import integrate\n",
    "from scipy.optimize import fsolve"
   ]
  },
  {
   "cell_type": "code",
   "execution_count": 53,
   "id": "ab4e1404-68eb-4cc3-a775-f0515631894e",
   "metadata": {},
   "outputs": [
    {
     "name": "stdout",
     "output_type": "stream",
     "text": [
      "0.1 0.713143583739399\n"
     ]
    }
   ],
   "source": [
    "x = sy.symbols('x')\n",
    "a = 0.1\n",
    "pi = np.pi\n",
    "def f(x):\n",
    "    #return (pi)**(-1/2)*(2*a/pi)**(3/4)*np.exp(a*x**2 + 2)\n",
    "    return (pi)**(-1/2)*(2*a/pi)**(3/4)*sy.E**(a*x**2 + x)\n",
    "\n",
    "lim = sy.solve(sy.Eq(f(x),0.01))\n",
    "\n",
    "# don't just port sympy values into numpy!\n",
    "#inp = np.linspace(llim, ulim, 100, endpoint=True)\n",
    "inp = np.linspace(float(lim[0]), float(lim[1]), 100, endpoint=True)\n",
    "outp = np.sum(f(inp))\n",
    "print(a, outp)"
   ]
  },
  {
   "cell_type": "code",
   "execution_count": 61,
   "id": "78d9815c-8955-4d6a-ba5e-3f1087629fc0",
   "metadata": {},
   "outputs": [
    {
     "name": "stdout",
     "output_type": "stream",
     "text": [
      "[-11.6836961289026, 1.68369612890260]\n",
      "0.1 36.0690329815521\n",
      "[-6.82263795602334, 1.82263795602334]\n",
      "0.2 18.9403790835250\n",
      "[-5.14252240983035, 1.80918907649701]\n",
      "0.3 17.1712046292871\n",
      "[-4.26326242019787, 1.76326242019787]\n",
      "0.4 17.2824846995844\n",
      "[-3.71081457450573, 1.71081457450573]\n",
      "0.5 17.9315057711501\n",
      "[-3.32587743623251, 1.65921076956584]\n",
      "0.6 18.7860786595955\n",
      "[-3.03922960401882, 1.61065817544739]\n",
      "0.7 19.7291495975572\n",
      "[-2.81567927553608, 1.56567927553608]\n",
      "0.8 20.7107872822573\n",
      "[-2.63531932556265, 1.52420821445154]\n",
      "0.9 21.7070648741909\n"
     ]
    }
   ],
   "source": [
    "x = sy.symbols('x')\n",
    "pi = np.pi\n",
    "\n",
    "def f(x):\n",
    "    #return (pi)**(-1/2)*(2*a/pi)**(3/4)*np.exp(a*x**2 + 2)\n",
    "    return (pi)**(-1/2)*(2*a/pi)**(3/4)*sy.E**(-a*x**2 - x)\n",
    "\n",
    "for i in range(1,10):\n",
    "    a = i/10\n",
    "    lim = sy.solve(sy.Eq(f(x),0.01))\n",
    "    print(lim)\n",
    "    # don't just port sympy values into numpy!\n",
    "    #inp = np.linspace(llim, ulim, 100, endpoint=True)\n",
    "    inp = np.linspace(float(lim[0]), float(lim[1]), 100, endpoint=True)\n",
    "    outp = np.sum(f(inp))\n",
    "    print(a, outp)\n",
    "    "
   ]
  },
  {
   "cell_type": "code",
   "execution_count": null,
   "id": "a8fab790-50b2-4d17-8900-61e72dcd1734",
   "metadata": {},
   "outputs": [],
   "source": [
    "x = sy.symbols('x')\n",
    "pi = np.pi\n",
    "\n",
    "def f(x,a):\n",
    "    #return (pi)**(-1/2)*(2*a/pi)**(3/4)*np.exp(a*x**2 + 2)\n",
    "    return (pi)**(-1/2)*(2*a/pi)**(3/4)*sy.E**(-a*x**2 - x)\n",
    "\n",
    "def estimate_opt(x,a):\n",
    "    lim = sy.solve(sy.Eq(f(x,a),0.01))\n",
    "    #print(lim)\n",
    "    # don't just port sympy values into numpy!\n",
    "    #inp = np.linspace(llim, ulim, 100, endpoint=True)\n",
    "    inp = np.linspace(float(lim[0]), float(lim[1]), 100, endpoint=True)\n",
    "    outp = np.sum(f(inp,a))\n",
    "    return outp\n",
    "        \n",
    "toggle = 1\n",
    "alpha = 0\n",
    "while toggle:\n",
    "    list_val = []\n",
    "    for i in range(1,10):\n",
    "        a = alpha + i/10\n",
    "        outval = estimate_opt(x,a)\n",
    "        \n",
    "        list_val.append(outval)\n",
    "        print(a, outval)\n",
    "    max(list_val)\n",
    "    max_index = list_val.index(max(list_val))\n",
    "    toggle = int(input())"
   ]
  },
  {
   "cell_type": "code",
   "execution_count": 30,
   "id": "91a100da-a876-4720-9f00-dd618cba2ab0",
   "metadata": {},
   "outputs": [
    {
     "name": "stdout",
     "output_type": "stream",
     "text": [
      "Hi\n",
      "0.1 4.88009530479779\n",
      "0.2 1.66271109994248\n",
      "0.3 1.21306302431758\n",
      "0.4 1.05837615549166\n",
      "0.5 0.987599410134610\n",
      "0.6 0.951009871192215\n",
      "0.7 0.931260017859759\n",
      "0.8 0.920833029757654\n",
      "0.9 0.915987259014469\n",
      "2\n",
      "0.1\n"
     ]
    },
    {
     "ename": "KeyboardInterrupt",
     "evalue": "Interrupted by user",
     "output_type": "error",
     "traceback": [
      "\u001b[0;31m---------------------------------------------------------------------------\u001b[0m",
      "\u001b[0;31mKeyboardInterrupt\u001b[0m                         Traceback (most recent call last)",
      "\u001b[0;32m<ipython-input-30-09e402ba0547>\u001b[0m in \u001b[0;36m<module>\u001b[0;34m\u001b[0m\n\u001b[1;32m     35\u001b[0m     \u001b[0mprint\u001b[0m\u001b[0;34m(\u001b[0m\u001b[0mnum\u001b[0m\u001b[0;34m)\u001b[0m\u001b[0;34m\u001b[0m\u001b[0;34m\u001b[0m\u001b[0m\n\u001b[1;32m     36\u001b[0m     \u001b[0mprint\u001b[0m\u001b[0;34m(\u001b[0m\u001b[0malpha\u001b[0m\u001b[0;34m)\u001b[0m\u001b[0;34m\u001b[0m\u001b[0;34m\u001b[0m\u001b[0m\n\u001b[0;32m---> 37\u001b[0;31m     \u001b[0mtoggle\u001b[0m \u001b[0;34m=\u001b[0m \u001b[0mint\u001b[0m\u001b[0;34m(\u001b[0m\u001b[0minput\u001b[0m\u001b[0;34m(\u001b[0m\u001b[0;34m)\u001b[0m\u001b[0;34m)\u001b[0m\u001b[0;34m\u001b[0m\u001b[0;34m\u001b[0m\u001b[0m\n\u001b[0m",
      "\u001b[0;32m/usr/lib/python3/dist-packages/ipykernel/kernelbase.py\u001b[0m in \u001b[0;36mraw_input\u001b[0;34m(self, prompt)\u001b[0m\n\u001b[1;32m    855\u001b[0m                 \u001b[0;34m\"raw_input was called, but this frontend does not support input requests.\"\u001b[0m\u001b[0;34m\u001b[0m\u001b[0;34m\u001b[0m\u001b[0m\n\u001b[1;32m    856\u001b[0m             )\n\u001b[0;32m--> 857\u001b[0;31m         return self._input_request(str(prompt),\n\u001b[0m\u001b[1;32m    858\u001b[0m             \u001b[0mself\u001b[0m\u001b[0;34m.\u001b[0m\u001b[0m_parent_ident\u001b[0m\u001b[0;34m,\u001b[0m\u001b[0;34m\u001b[0m\u001b[0;34m\u001b[0m\u001b[0m\n\u001b[1;32m    859\u001b[0m             \u001b[0mself\u001b[0m\u001b[0;34m.\u001b[0m\u001b[0m_parent_header\u001b[0m\u001b[0;34m,\u001b[0m\u001b[0;34m\u001b[0m\u001b[0;34m\u001b[0m\u001b[0m\n",
      "\u001b[0;32m/usr/lib/python3/dist-packages/ipykernel/kernelbase.py\u001b[0m in \u001b[0;36m_input_request\u001b[0;34m(self, prompt, ident, parent, password)\u001b[0m\n\u001b[1;32m    899\u001b[0m             \u001b[0;32mexcept\u001b[0m \u001b[0mKeyboardInterrupt\u001b[0m\u001b[0;34m:\u001b[0m\u001b[0;34m\u001b[0m\u001b[0;34m\u001b[0m\u001b[0m\n\u001b[1;32m    900\u001b[0m                 \u001b[0;31m# re-raise KeyboardInterrupt, to truncate traceback\u001b[0m\u001b[0;34m\u001b[0m\u001b[0;34m\u001b[0m\u001b[0;34m\u001b[0m\u001b[0m\n\u001b[0;32m--> 901\u001b[0;31m                 \u001b[0;32mraise\u001b[0m \u001b[0mKeyboardInterrupt\u001b[0m\u001b[0;34m(\u001b[0m\u001b[0;34m\"Interrupted by user\"\u001b[0m\u001b[0;34m)\u001b[0m \u001b[0;32mfrom\u001b[0m \u001b[0;32mNone\u001b[0m\u001b[0;34m\u001b[0m\u001b[0;34m\u001b[0m\u001b[0m\n\u001b[0m\u001b[1;32m    902\u001b[0m             \u001b[0;32mexcept\u001b[0m \u001b[0mException\u001b[0m \u001b[0;32mas\u001b[0m \u001b[0me\u001b[0m\u001b[0;34m:\u001b[0m\u001b[0;34m\u001b[0m\u001b[0;34m\u001b[0m\u001b[0m\n\u001b[1;32m    903\u001b[0m                 \u001b[0mself\u001b[0m\u001b[0;34m.\u001b[0m\u001b[0mlog\u001b[0m\u001b[0;34m.\u001b[0m\u001b[0mwarning\u001b[0m\u001b[0;34m(\u001b[0m\u001b[0;34m\"Invalid Message:\"\u001b[0m\u001b[0;34m,\u001b[0m \u001b[0mexc_info\u001b[0m\u001b[0;34m=\u001b[0m\u001b[0;32mTrue\u001b[0m\u001b[0;34m)\u001b[0m\u001b[0;34m\u001b[0m\u001b[0;34m\u001b[0m\u001b[0m\n",
      "\u001b[0;31mKeyboardInterrupt\u001b[0m: Interrupted by user"
     ]
    }
   ],
   "source": [
    "x = sy.symbols('x')\n",
    "pi = np.pi\n",
    "\n",
    "def f(x,a):\n",
    "    #return (pi)**(-1/2)*(2*a/pi)**(3/4)*np.exp(a*x**2 + 2)\n",
    "    return (pi)**(-1/2)*(2*a/pi)**(3/4)*sy.E**(-a*x**2 - x)\n",
    "\n",
    "def estimate_opt(x,a):\n",
    "    lim = sy.solve(sy.Eq(f(x,a),0.00001))\n",
    "    #print(lim)\n",
    "    # don't just port sympy values into numpy!\n",
    "    #inp = np.linspace(llim, ulim, 100, endpoint=True)\n",
    "    inp = np.linspace(float(lim[0]), float(lim[1]), 2000, endpoint=True)\n",
    "    #outp = (np.sum(f(inp,a)))\n",
    "    #outp = (np.sum(f(inp,a)))/(abs(float(lim[0]) - float(lim[1])))\n",
    "    outp = (np.sum(f(inp,a)))*(abs(float(lim[0]) - float(lim[1])))/2000\n",
    "    return outp\n",
    "        \n",
    "toggle = 1\n",
    "alpha = 0\n",
    "num = 1\n",
    "while toggle:\n",
    "    print('Hi')\n",
    "    list_val = []\n",
    "    for i in range(1,10):\n",
    "        a = alpha + i/(10**num)\n",
    "        outval = estimate_opt(x,a)\n",
    "        \n",
    "        list_val.append(outval)\n",
    "        print(a, outval)\n",
    "    max(list_val)\n",
    "    max_index = list_val.index(max(list_val))\n",
    "    alpha += (max_index + 1)/(10**num)\n",
    "    num += 1\n",
    "    print(num)\n",
    "    print(alpha)\n",
    "    toggle = int(input())"
   ]
  },
  {
   "cell_type": "code",
   "execution_count": 27,
   "id": "4e460592-4127-4626-b90d-b51c3e6ef9e8",
   "metadata": {},
   "outputs": [
    {
     "name": "stdout",
     "output_type": "stream",
     "text": [
      "[-7.59181848558442, 4.25848515225109]\n"
     ]
    },
    {
     "data": {
      "image/png": "[encoded data removed]",
      "text/plain": [
       "<Figure size 432x288 with 1 Axes>"
      ]
     },
     "metadata": {
      "needs_background": "light"
     },
     "output_type": "display_data"
    },
    {
     "data": {
      "text/plain": [
       "<sympy.plotting.plot.Plot at 0xffff8c79fc10>"
      ]
     },
     "execution_count": 27,
     "metadata": {},
     "output_type": "execute_result"
    }
   ],
   "source": [
    "a = 0.3\n",
    "lim = sy.solve(sy.Eq(f(x,a),0.00001))\n",
    "print(lim)\n",
    "sy.plot(f(x,a))\n"
   ]
  },
  {
   "cell_type": "code",
   "execution_count": 10,
   "id": "fa6db533-a243-4d94-967a-a2a9ad139fad",
   "metadata": {},
   "outputs": [],
   "source": [
    "max_index = list_val.index(max(list_val))\n",
    "if max_index = 0:\n",
    "elif max_index = len(list_val) -1:\n",
    "else:\n",
    "    temp_bool = (list_val[max_index] - list_val[max_index - 1]) > (list_val[max_index] - list_val[max_index + 1])\n",
    "    if temp_bool:\n",
    "        alpha = max_index - \n",
    "    else:\n",
    "        alpha = max_index\n",
    "#Should I choose max_index or before or after?"
   ]
  },
  {
   "cell_type": "code",
   "execution_count": 11,
   "id": "949aaef1-834a-4951-91ef-0b82af0f3b4c",
   "metadata": {},
   "outputs": [
    {
     "data": {
      "text/latex": [
       "$\\displaystyle \\text{False}$"
      ],
      "text/plain": [
       "False"
      ]
     },
     "execution_count": 11,
     "metadata": {},
     "output_type": "execute_result"
    }
   ],
   "source": [
    "temp_bool"
   ]
  },
  {
   "cell_type": "code",
   "execution_count": 5,
   "id": "96af4f23-7dc8-44ab-bc26-89513fe92270",
   "metadata": {},
   "outputs": [
    {
     "data": {
      "text/plain": [
       "(1.2136751899857952, 6.207501355797025e-10)"
      ]
     },
     "execution_count": 5,
     "metadata": {},
     "output_type": "execute_result"
    }
   ],
   "source": [
    "pi = np.pi\n",
    "a = 0.3\n",
    "def f(x):\n",
    "    #return (pi)**(-1/2)*(2*a/pi)**(3/4)*np.exp(a*x**2 + 2)\n",
    "    return (pi)**(-1/2)*(2*a/pi)**(3/4)*np.exp(-a*x**2 - x)\n",
    "integrate.quad(f,-np.inf,np.inf)"
   ]
  },
  {
   "cell_type": "markdown",
   "id": "6e705bbd-f1a5-4754-a484-4077dec76915",
   "metadata": {},
   "source": [
    "Conclusion: the algorithm for replacing an integral with sums is quite accurate, however, I've got to think of a way to extend this to 3 dimensions."
   ]
  },
  {
   "cell_type": "code",
   "execution_count": null,
   "id": "28803462-b271-4920-bd63-c5826f6165f7",
   "metadata": {},
   "outputs": [],
   "source": [
    "x = sy.symbols('x')\n",
    "pi = np.pi\n",
    "\n",
    "def f(x,a):\n",
    "    #return (pi)**(-1/2)*(2*a/pi)**(3/4)*np.exp(a*x**2 + 2)\n",
    "    return (pi)**(-1/2)*(2*a/pi)**(3/4)*sy.E**(-a*x**2 - x)\n",
    "\n",
    "def estimate_opt(x,a):\n",
    "    lim = sy.solve(sy.Eq(f(x,a),0.00001))\n",
    "    #print(lim)\n",
    "    # don't just port sympy values into numpy!\n",
    "    #inp = np.linspace(llim, ulim, 100, endpoint=True)\n",
    "    inp = np.linspace(0, float(lim[1]), 2000, endpoint=True)\n",
    "    #outp = (np.sum(f(inp,a)))\n",
    "    #outp = (np.sum(f(inp,a)))/(abs(float(lim[0]) - float(lim[1])))\n",
    "    outp = (np.sum(f(inp,a)))*float(lim[1])/2000\n",
    "    return outp\n",
    "        \n",
    "toggle = 1\n",
    "alpha = 0\n",
    "num = 1\n",
    "while toggle:\n",
    "    print('Hi')\n",
    "    list_val = []\n",
    "    for i in range(1,10):\n",
    "        a = alpha + i/(10**num)\n",
    "        outval = estimate_opt(x,a)\n",
    "        \n",
    "        list_val.append(outval)\n",
    "        print(a, outval)\n",
    "    max(list_val)\n",
    "    max_index = list_val.index(max(list_val))\n",
    "    alpha += (max_index + 1)/(10**num)\n",
    "    num += 1\n",
    "    print(num)\n",
    "    print(alpha)\n",
    "    toggle = int(input())"
   ]
  },
  {
   "cell_type": "code",
   "execution_count": 4,
   "id": "0556daf9-b74f-4bd9-91c1-f8db05ac6985",
   "metadata": {},
   "outputs": [
    {
     "name": "stdout",
     "output_type": "stream",
     "text": [
      "Hi\n",
      "0.1 0.0636513020775464\n",
      "0.2 0.0976785936339000\n",
      "0.3 0.123417538121183\n",
      "0.4 0.144567747254337\n",
      "0.5 0.162715595329270\n",
      "0.6 0.178715837873910\n",
      "0.7 0.193090144836744\n",
      "0.8 0.206183607236333\n",
      "0.9 0.218237887577589\n",
      "2\n",
      "0.9\n"
     ]
    },
    {
     "ename": "KeyboardInterrupt",
     "evalue": "Interrupted by user",
     "output_type": "error",
     "traceback": [
      "\u001b[0;31m---------------------------------------------------------------------------\u001b[0m",
      "\u001b[0;31mKeyboardInterrupt\u001b[0m                         Traceback (most recent call last)",
      "\u001b[0;32m<ipython-input-4-9f6402ed7b3c>\u001b[0m in \u001b[0;36m<module>\u001b[0;34m\u001b[0m\n\u001b[1;32m     35\u001b[0m     \u001b[0mprint\u001b[0m\u001b[0;34m(\u001b[0m\u001b[0mnum\u001b[0m\u001b[0;34m)\u001b[0m\u001b[0;34m\u001b[0m\u001b[0;34m\u001b[0m\u001b[0m\n\u001b[1;32m     36\u001b[0m     \u001b[0mprint\u001b[0m\u001b[0;34m(\u001b[0m\u001b[0malpha\u001b[0m\u001b[0;34m)\u001b[0m\u001b[0;34m\u001b[0m\u001b[0;34m\u001b[0m\u001b[0m\n\u001b[0;32m---> 37\u001b[0;31m     \u001b[0mtoggle\u001b[0m \u001b[0;34m=\u001b[0m \u001b[0mint\u001b[0m\u001b[0;34m(\u001b[0m\u001b[0minput\u001b[0m\u001b[0;34m(\u001b[0m\u001b[0;34m)\u001b[0m\u001b[0;34m)\u001b[0m\u001b[0;34m\u001b[0m\u001b[0;34m\u001b[0m\u001b[0m\n\u001b[0m",
      "\u001b[0;32m/usr/lib/python3/dist-packages/ipykernel/kernelbase.py\u001b[0m in \u001b[0;36mraw_input\u001b[0;34m(self, prompt)\u001b[0m\n\u001b[1;32m    855\u001b[0m                 \u001b[0;34m\"raw_input was called, but this frontend does not support input requests.\"\u001b[0m\u001b[0;34m\u001b[0m\u001b[0;34m\u001b[0m\u001b[0m\n\u001b[1;32m    856\u001b[0m             )\n\u001b[0;32m--> 857\u001b[0;31m         return self._input_request(str(prompt),\n\u001b[0m\u001b[1;32m    858\u001b[0m             \u001b[0mself\u001b[0m\u001b[0;34m.\u001b[0m\u001b[0m_parent_ident\u001b[0m\u001b[0;34m,\u001b[0m\u001b[0;34m\u001b[0m\u001b[0;34m\u001b[0m\u001b[0m\n\u001b[1;32m    859\u001b[0m             \u001b[0mself\u001b[0m\u001b[0;34m.\u001b[0m\u001b[0m_parent_header\u001b[0m\u001b[0;34m,\u001b[0m\u001b[0;34m\u001b[0m\u001b[0;34m\u001b[0m\u001b[0m\n",
      "\u001b[0;32m/usr/lib/python3/dist-packages/ipykernel/kernelbase.py\u001b[0m in \u001b[0;36m_input_request\u001b[0;34m(self, prompt, ident, parent, password)\u001b[0m\n\u001b[1;32m    899\u001b[0m             \u001b[0;32mexcept\u001b[0m \u001b[0mKeyboardInterrupt\u001b[0m\u001b[0;34m:\u001b[0m\u001b[0;34m\u001b[0m\u001b[0;34m\u001b[0m\u001b[0m\n\u001b[1;32m    900\u001b[0m                 \u001b[0;31m# re-raise KeyboardInterrupt, to truncate traceback\u001b[0m\u001b[0;34m\u001b[0m\u001b[0;34m\u001b[0m\u001b[0;34m\u001b[0m\u001b[0m\n\u001b[0;32m--> 901\u001b[0;31m                 \u001b[0;32mraise\u001b[0m \u001b[0mKeyboardInterrupt\u001b[0m\u001b[0;34m(\u001b[0m\u001b[0;34m\"Interrupted by user\"\u001b[0m\u001b[0;34m)\u001b[0m \u001b[0;32mfrom\u001b[0m \u001b[0;32mNone\u001b[0m\u001b[0;34m\u001b[0m\u001b[0;34m\u001b[0m\u001b[0m\n\u001b[0m\u001b[1;32m    902\u001b[0m             \u001b[0;32mexcept\u001b[0m \u001b[0mException\u001b[0m \u001b[0;32mas\u001b[0m \u001b[0me\u001b[0m\u001b[0;34m:\u001b[0m\u001b[0;34m\u001b[0m\u001b[0;34m\u001b[0m\u001b[0m\n\u001b[1;32m    903\u001b[0m                 \u001b[0mself\u001b[0m\u001b[0;34m.\u001b[0m\u001b[0mlog\u001b[0m\u001b[0;34m.\u001b[0m\u001b[0mwarning\u001b[0m\u001b[0;34m(\u001b[0m\u001b[0;34m\"Invalid Message:\"\u001b[0m\u001b[0;34m,\u001b[0m \u001b[0mexc_info\u001b[0m\u001b[0;34m=\u001b[0m\u001b[0;32mTrue\u001b[0m\u001b[0;34m)\u001b[0m\u001b[0;34m\u001b[0m\u001b[0;34m\u001b[0m\u001b[0m\n",
      "\u001b[0;31mKeyboardInterrupt\u001b[0m: Interrupted by user"
     ]
    },
    {
     "name": "stdin",
     "output_type": "stream",
     "text": [
      " 0\n"
     ]
    }
   ],
   "source": [
    "x = sy.symbols('x')\n",
    "pi = np.pi\n",
    "\n",
    "def f(x,a):\n",
    "    #return (pi)**(-1/2)*(2*a/pi)**(3/4)*np.exp(a*x**2 + 2)\n",
    "    return (pi)**(-1/2)*(2*a/pi)**(3/4)*sy.E**(-a*x**2 - x)\n",
    "\n",
    "def estimate_opt(x,a):\n",
    "    #lim = sy.solve(sy.Eq(f(x,a),0.00001))\n",
    "    #print(lim)\n",
    "    # don't just port sympy values into numpy!\n",
    "    #inp = np.linspace(llim, ulim, 100, endpoint=True)\n",
    "    inp = np.linspace(0, 100, 2000, endpoint=True)\n",
    "    #outp = (np.sum(f(inp,a)))\n",
    "    #outp = (np.sum(f(inp,a)))/(abs(float(lim[0]) - float(lim[1])))\n",
    "    outp = (np.sum(f(inp,a)))*100/2000\n",
    "    return outp\n",
    "        \n",
    "toggle = 1\n",
    "alpha = 0\n",
    "num = 1\n",
    "while toggle:\n",
    "    print('Hi')\n",
    "    list_val = []\n",
    "    for i in range(1,10):\n",
    "        a = alpha + i/(10**num)\n",
    "        outval = estimate_opt(x,a)\n",
    "        \n",
    "        list_val.append(outval)\n",
    "        print(a, outval)\n",
    "    max(list_val)\n",
    "    max_index = list_val.index(max(list_val))\n",
    "    alpha += (max_index + 1)/(10**num)\n",
    "    num += 1\n",
    "    print(num)\n",
    "    print(alpha)\n",
    "    toggle = int(input())"
   ]
  },
  {
   "cell_type": "code",
   "execution_count": 19,
   "id": "346543c3-d271-4aff-8eeb-fd1bd0dba9ea",
   "metadata": {},
   "outputs": [
    {
     "data": {
      "image/png": "[encoded data removed]",
      "text/plain": [
       "<Figure size 432x288 with 1 Axes>"
      ]
     },
     "metadata": {
      "needs_background": "light"
     },
     "output_type": "display_data"
    },
    {
     "data": {
      "text/plain": [
       "<sympy.plotting.plot.Plot at 0xffff5356aa90>"
      ]
     },
     "execution_count": 19,
     "metadata": {},
     "output_type": "execute_result"
    }
   ],
   "source": [
    "x = sy.Symbol('x')\n",
    "pi = np.pi\n",
    "def f(x,a):\n",
    "    #return (pi)**(-1/2)*(2*a/pi)**(3/4)*np.exp(a*x**2 + 2)\n",
    "    return (pi)**(-1/2)*(2*a/pi)**(3/4)*sy.E**(-a*x**2 - x)*4*pi*x**2\n",
    "sy.plot(f(x,0.1),(x,0,3))"
   ]
  },
  {
   "cell_type": "code",
   "execution_count": 20,
   "id": "a3f0f462-d1ef-4571-ba98-343d6a78f4d7",
   "metadata": {},
   "outputs": [
    {
     "data": {
      "image/png": "[encoded data removed]",
      "text/plain": [
       "<Figure size 432x288 with 1 Axes>"
      ]
     },
     "metadata": {
      "needs_background": "light"
     },
     "output_type": "display_data"
    },
    {
     "data": {
      "text/plain": [
       "<sympy.plotting.plot.Plot at 0xffff53375490>"
      ]
     },
     "execution_count": 20,
     "metadata": {},
     "output_type": "execute_result"
    }
   ],
   "source": [
    "sy.plot(f(x,0.9),(x,0,3))"
   ]
  },
  {
   "cell_type": "code",
   "execution_count": 26,
   "id": "a035de2c-3fd5-4060-afc2-710078903f5a",
   "metadata": {},
   "outputs": [
    {
     "name": "stdout",
     "output_type": "stream",
     "text": [
      "Hi\n"
     ]
    },
    {
     "ename": "NotImplementedError",
     "evalue": "multiple generators [x, exp(-x), exp(-x**2/10)]\nNo algorithms are implemented to solve equation 449277866983911*x**2*exp(-x**2/10 - x)/500000000000000 - 1/100",
     "output_type": "error",
     "traceback": [
      "\u001b[0;31m---------------------------------------------------------------------------\u001b[0m",
      "\u001b[0;31mNotImplementedError\u001b[0m                       Traceback (most recent call last)",
      "\u001b[0;32m<ipython-input-26-96c09077b029>\u001b[0m in \u001b[0;36m<module>\u001b[0;34m\u001b[0m\n\u001b[1;32m     26\u001b[0m     \u001b[0;32mfor\u001b[0m \u001b[0mi\u001b[0m \u001b[0;32min\u001b[0m \u001b[0mrange\u001b[0m\u001b[0;34m(\u001b[0m\u001b[0;36m1\u001b[0m\u001b[0;34m,\u001b[0m\u001b[0;36m10\u001b[0m\u001b[0;34m)\u001b[0m\u001b[0;34m:\u001b[0m\u001b[0;34m\u001b[0m\u001b[0;34m\u001b[0m\u001b[0m\n\u001b[1;32m     27\u001b[0m         \u001b[0ma\u001b[0m \u001b[0;34m=\u001b[0m \u001b[0malpha\u001b[0m \u001b[0;34m+\u001b[0m \u001b[0mi\u001b[0m\u001b[0;34m/\u001b[0m\u001b[0;34m(\u001b[0m\u001b[0;36m10\u001b[0m\u001b[0;34m**\u001b[0m\u001b[0mnum\u001b[0m\u001b[0;34m)\u001b[0m\u001b[0;34m\u001b[0m\u001b[0;34m\u001b[0m\u001b[0m\n\u001b[0;32m---> 28\u001b[0;31m         \u001b[0moutval\u001b[0m \u001b[0;34m=\u001b[0m \u001b[0mestimate_opt\u001b[0m\u001b[0;34m(\u001b[0m\u001b[0mx\u001b[0m\u001b[0;34m,\u001b[0m\u001b[0ma\u001b[0m\u001b[0;34m)\u001b[0m\u001b[0;34m\u001b[0m\u001b[0;34m\u001b[0m\u001b[0m\n\u001b[0m\u001b[1;32m     29\u001b[0m         \u001b[0mlist_val\u001b[0m\u001b[0;34m.\u001b[0m\u001b[0mappend\u001b[0m\u001b[0;34m(\u001b[0m\u001b[0moutval\u001b[0m\u001b[0;34m)\u001b[0m\u001b[0;34m\u001b[0m\u001b[0;34m\u001b[0m\u001b[0m\n\u001b[1;32m     30\u001b[0m         \u001b[0mprint\u001b[0m\u001b[0;34m(\u001b[0m\u001b[0ma\u001b[0m\u001b[0;34m,\u001b[0m \u001b[0moutval\u001b[0m\u001b[0;34m)\u001b[0m\u001b[0;34m\u001b[0m\u001b[0;34m\u001b[0m\u001b[0m\n",
      "\u001b[0;32m<ipython-input-26-96c09077b029>\u001b[0m in \u001b[0;36mestimate_opt\u001b[0;34m(x, a)\u001b[0m\n\u001b[1;32m      8\u001b[0m \u001b[0;32mdef\u001b[0m \u001b[0mestimate_opt\u001b[0m\u001b[0;34m(\u001b[0m\u001b[0mx\u001b[0m\u001b[0;34m,\u001b[0m\u001b[0ma\u001b[0m\u001b[0;34m)\u001b[0m\u001b[0;34m:\u001b[0m\u001b[0;34m\u001b[0m\u001b[0;34m\u001b[0m\u001b[0m\n\u001b[1;32m      9\u001b[0m     \u001b[0mf\u001b[0m\u001b[0;34m(\u001b[0m\u001b[0mx\u001b[0m\u001b[0;34m,\u001b[0m\u001b[0ma\u001b[0m\u001b[0;34m)\u001b[0m\u001b[0;34m\u001b[0m\u001b[0;34m\u001b[0m\u001b[0m\n\u001b[0;32m---> 10\u001b[0;31m     \u001b[0mlim\u001b[0m \u001b[0;34m=\u001b[0m \u001b[0msy\u001b[0m\u001b[0;34m.\u001b[0m\u001b[0msolve\u001b[0m\u001b[0;34m(\u001b[0m\u001b[0msy\u001b[0m\u001b[0;34m.\u001b[0m\u001b[0mEq\u001b[0m\u001b[0;34m(\u001b[0m\u001b[0mf\u001b[0m\u001b[0;34m(\u001b[0m\u001b[0mx\u001b[0m\u001b[0;34m,\u001b[0m\u001b[0ma\u001b[0m\u001b[0;34m)\u001b[0m\u001b[0;34m,\u001b[0m\u001b[0;36m0.01\u001b[0m\u001b[0;34m)\u001b[0m\u001b[0;34m)\u001b[0m\u001b[0;34m\u001b[0m\u001b[0;34m\u001b[0m\u001b[0m\n\u001b[0m\u001b[1;32m     11\u001b[0m     \u001b[0;31m#print(lim)\u001b[0m\u001b[0;34m\u001b[0m\u001b[0;34m\u001b[0m\u001b[0;34m\u001b[0m\u001b[0m\n\u001b[1;32m     12\u001b[0m     \u001b[0;31m# don't just port sympy values into numpy!\u001b[0m\u001b[0;34m\u001b[0m\u001b[0;34m\u001b[0m\u001b[0;34m\u001b[0m\u001b[0m\n",
      "\u001b[0;32m/usr/lib/python3/dist-packages/sympy/solvers/solvers.py\u001b[0m in \u001b[0;36msolve\u001b[0;34m(f, *symbols, **flags)\u001b[0m\n\u001b[1;32m   1095\u001b[0m     \u001b[0;31m###########################################################################\u001b[0m\u001b[0;34m\u001b[0m\u001b[0;34m\u001b[0m\u001b[0;34m\u001b[0m\u001b[0m\n\u001b[1;32m   1096\u001b[0m     \u001b[0;32mif\u001b[0m \u001b[0mbare_f\u001b[0m\u001b[0;34m:\u001b[0m\u001b[0;34m\u001b[0m\u001b[0;34m\u001b[0m\u001b[0m\n\u001b[0;32m-> 1097\u001b[0;31m         \u001b[0msolution\u001b[0m \u001b[0;34m=\u001b[0m \u001b[0m_solve\u001b[0m\u001b[0;34m(\u001b[0m\u001b[0mf\u001b[0m\u001b[0;34m[\u001b[0m\u001b[0;36m0\u001b[0m\u001b[0;34m]\u001b[0m\u001b[0;34m,\u001b[0m \u001b[0;34m*\u001b[0m\u001b[0msymbols\u001b[0m\u001b[0;34m,\u001b[0m \u001b[0;34m**\u001b[0m\u001b[0mflags\u001b[0m\u001b[0;34m)\u001b[0m\u001b[0;34m\u001b[0m\u001b[0;34m\u001b[0m\u001b[0m\n\u001b[0m\u001b[1;32m   1098\u001b[0m     \u001b[0;32melse\u001b[0m\u001b[0;34m:\u001b[0m\u001b[0;34m\u001b[0m\u001b[0;34m\u001b[0m\u001b[0m\n\u001b[1;32m   1099\u001b[0m         \u001b[0msolution\u001b[0m \u001b[0;34m=\u001b[0m \u001b[0m_solve_system\u001b[0m\u001b[0;34m(\u001b[0m\u001b[0mf\u001b[0m\u001b[0;34m,\u001b[0m \u001b[0msymbols\u001b[0m\u001b[0;34m,\u001b[0m \u001b[0;34m**\u001b[0m\u001b[0mflags\u001b[0m\u001b[0;34m)\u001b[0m\u001b[0;34m\u001b[0m\u001b[0;34m\u001b[0m\u001b[0m\n",
      "\u001b[0;32m/usr/lib/python3/dist-packages/sympy/solvers/solvers.py\u001b[0m in \u001b[0;36m_solve\u001b[0;34m(f, *symbols, **flags)\u001b[0m\n\u001b[1;32m   1714\u001b[0m \u001b[0;34m\u001b[0m\u001b[0m\n\u001b[1;32m   1715\u001b[0m     \u001b[0;32mif\u001b[0m \u001b[0mresult\u001b[0m \u001b[0;32mis\u001b[0m \u001b[0;32mFalse\u001b[0m\u001b[0;34m:\u001b[0m\u001b[0;34m\u001b[0m\u001b[0;34m\u001b[0m\u001b[0m\n\u001b[0;32m-> 1716\u001b[0;31m         \u001b[0;32mraise\u001b[0m \u001b[0mNotImplementedError\u001b[0m\u001b[0;34m(\u001b[0m\u001b[0;34m'\\n'\u001b[0m\u001b[0;34m.\u001b[0m\u001b[0mjoin\u001b[0m\u001b[0;34m(\u001b[0m\u001b[0;34m[\u001b[0m\u001b[0mmsg\u001b[0m\u001b[0;34m,\u001b[0m \u001b[0mnot_impl_msg\u001b[0m \u001b[0;34m%\u001b[0m \u001b[0mf\u001b[0m\u001b[0;34m]\u001b[0m\u001b[0;34m)\u001b[0m\u001b[0;34m)\u001b[0m\u001b[0;34m\u001b[0m\u001b[0;34m\u001b[0m\u001b[0m\n\u001b[0m\u001b[1;32m   1717\u001b[0m \u001b[0;34m\u001b[0m\u001b[0m\n\u001b[1;32m   1718\u001b[0m     \u001b[0;32mif\u001b[0m \u001b[0mflags\u001b[0m\u001b[0;34m.\u001b[0m\u001b[0mget\u001b[0m\u001b[0;34m(\u001b[0m\u001b[0;34m'simplify'\u001b[0m\u001b[0;34m,\u001b[0m \u001b[0;32mTrue\u001b[0m\u001b[0;34m)\u001b[0m\u001b[0;34m:\u001b[0m\u001b[0;34m\u001b[0m\u001b[0;34m\u001b[0m\u001b[0m\n",
      "\u001b[0;31mNotImplementedError\u001b[0m: multiple generators [x, exp(-x), exp(-x**2/10)]\nNo algorithms are implemented to solve equation 449277866983911*x**2*exp(-x**2/10 - x)/500000000000000 - 1/100"
     ]
    }
   ],
   "source": [
    "x = sy.symbols('x')\n",
    "pi = np.pi\n",
    "\n",
    "def f(x,a):\n",
    "    #return (pi)**(-1/2)*(2*a/pi)**(3/4)*np.exp(a*x**2 + 2)\n",
    "    return (pi)**(-1/2)*(2*a/pi)**(3/4)*4*pi*x**2*sy.E**(-a*x**2 - x)\n",
    "\n",
    "def estimate_opt(x,a):\n",
    "    f(x,a)\n",
    "    lim = sy.solve(sy.Eq(f(x,a),0.01))\n",
    "    #print(lim)\n",
    "    # don't just port sympy values into numpy!\n",
    "    #inp = np.linspace(llim, ulim, 100, endpoint=True)\n",
    "    inp = np.linspace(float(lim[0]), float(lim[1]), 1000, endpoint=True)\n",
    "    #outp = (np.sum(f(inp,a)))\n",
    "    outp = (np.sum(f(inp,a)))*(abs(float(lim[0]) - float(lim[1])))/1000\n",
    "    #outp = (np.sum(f(inp,a)))*100/2000\n",
    "    return outp\n",
    "        \n",
    "toggle = 1\n",
    "alpha = 0\n",
    "num = 1\n",
    "while toggle:\n",
    "    print('Hi')\n",
    "    list_val = []\n",
    "    for i in range(1,10):\n",
    "        a = alpha + i/(10**num)\n",
    "        outval = estimate_opt(x,a)\n",
    "        list_val.append(outval)\n",
    "        print(a, outval)\n",
    "    max(list_val)\n",
    "    max_index = list_val.index(max(list_val))\n",
    "    alpha += (max_index + 1)/(10**num)\n",
    "    num += 1\n",
    "    print(num)\n",
    "    print(alpha)\n",
    "    toggle = int(input())"
   ]
  },
  {
   "cell_type": "code",
   "execution_count": 71,
   "id": "649362dd-5c02-4da9-b83e-c06bc46ca448",
   "metadata": {},
   "outputs": [
    {
     "name": "stdout",
     "output_type": "stream",
     "text": [
      "Hi\n",
      "[0.4138132  3.47878967]\n",
      "0.1 0.4670075935654486\n",
      "[0.30189431 3.07244348]\n",
      "0.2 0.6246722031924453\n",
      "[0.25320096 2.76246277]\n",
      "0.3 0.6721604429788471\n",
      "[0.22412257 2.53063475]\n",
      "0.4 0.6828337678132562\n",
      "[0.20416072 2.3501111 ]\n",
      "0.5 0.678500017339453\n",
      "[0.18932217 2.20451733]\n",
      "0.6 0.6675136347017693\n",
      "[0.177707   2.08382764]\n",
      "0.7 0.6535667968373771\n",
      "[0.16827876 1.98160571]\n",
      "0.8 0.6384397741357738\n",
      "[0.16041677 1.89352473]\n",
      "0.9 0.6230366870365027\n",
      "2\n",
      "0.4\n"
     ]
    },
    {
     "name": "stdin",
     "output_type": "stream",
     "text": [
      " 0\n"
     ]
    }
   ],
   "source": [
    "x = sy.symbols('x')\n",
    "pi = np.pi\n",
    "steps = 1000\n",
    "\n",
    "def estimate_opt(x,a):\n",
    "    f = lambda x: (pi)**(-1/2)*(2*a/pi)**(3/4)*np.exp(-a*x**2 - x)*(4*pi*x**2) - 0.1\n",
    "    k = np.array([0.1, 2])\n",
    "    lim = fsolve(f, k)\n",
    "    print(lim)\n",
    "    # don't just port sympy values into numpy!\n",
    "    #inp = np.linspace(llim, ulim, 100, endpoint=True)\n",
    "    inp = np.linspace(lim[0], lim[1], steps, endpoint=True)\n",
    "    #outp = (np.sum(f(inp,a)))\n",
    "    outp = (np.sum(f(inp)))*(lim[1] - lim[0])/steps\n",
    "    #outp = (np.sum(f(inp,a)))*100/2000\n",
    "    return outp\n",
    "        \n",
    "toggle = 1\n",
    "alpha = 0\n",
    "num = 1\n",
    "while toggle:\n",
    "    print('Hi')\n",
    "    list_val = []\n",
    "    for i in range(1,10):\n",
    "        a = alpha + i/(10**num)\n",
    "        outval = estimate_opt(x,a)\n",
    "        list_val.append(outval)\n",
    "        print(a, outval)\n",
    "    max(list_val)\n",
    "    max_index = list_val.index(max(list_val))\n",
    "    alpha += (max_index + 1)/(10**num)\n",
    "    num += 1\n",
    "    print(num)\n",
    "    print(alpha)\n",
    "    toggle = int(input())"
   ]
  },
  {
   "cell_type": "code",
   "execution_count": 2,
   "id": "abc5f824-6310-4393-9890-e41b8576fea5",
   "metadata": {},
   "outputs": [
    {
     "name": "stdout",
     "output_type": "stream",
     "text": [
      "Hi\n",
      "[3.34159589e-03 8.48420210e+00]\n",
      "0.1 0.8641133860064188\n",
      "[2.57573289e-03 6.71537245e+00]\n",
      "0.2 0.9672172796430516\n",
      "[2.21201300e-03 5.76450411e+00]\n",
      "0.3 0.9770942499493678\n",
      "[1.98557592e-03 5.14252876e+00]\n",
      "0.4 0.9605667457413919\n",
      "[1.82604141e-03 4.69301081e+00]\n",
      "0.5 0.9354209444787555\n",
      "[1.70526406e-03 4.34767834e+00]\n",
      "0.6 0.9078343435913456\n",
      "[1.60940593e-03 4.07116755e+00]\n",
      "0.7 0.8802326616691799\n",
      "[1.53074041e-03 3.84301924e+00]\n",
      "0.8 0.8536065429899612\n",
      "[1.46455265e-03 3.65043883e+00]\n",
      "0.9 0.8283393730185097\n",
      "2\n",
      "0.2\n"
     ]
    },
    {
     "name": "stdin",
     "output_type": "stream",
     "text": [
      " 1\n"
     ]
    },
    {
     "name": "stdout",
     "output_type": "stream",
     "text": [
      "Hi\n",
      "[2.52897558e-03 6.59681429e+00]\n",
      "0.21000000000000002 0.970498055026109\n",
      "[2.48518582e-03 6.48475629e+00]\n",
      "0.22 0.973096012434599\n",
      "[2.44405265e-03 6.37860948e+00]\n",
      "0.23 0.9750922989409706\n",
      "[2.40530903e-03 6.27785797e+00]\n",
      "0.24000000000000002 0.9765569662717527\n",
      "[2.36872505e-03 6.18204769e+00]\n",
      "0.25 0.9775507596437598\n",
      "[2.33410095e-03 6.09077702e+00]\n",
      "0.26 0.9781265723895\n",
      "[2.30126219e-03 6.00368924e+00]\n",
      "0.27 0.9783306372890019\n",
      "[2.27005551e-03 5.92046622e+00]\n",
      "0.28 0.9782035087307351\n",
      "[2.24034573e-03 5.84082313e+00]\n",
      "0.29000000000000004 0.977780877404936\n",
      "3\n",
      "0.26\n"
     ]
    },
    {
     "name": "stdin",
     "output_type": "stream",
     "text": [
      " 1\n"
     ]
    },
    {
     "name": "stdout",
     "output_type": "stream",
     "text": [
      "Hi\n",
      "[2.33073942e-03 6.08188554e+00]\n",
      "0.261 0.9781629968033168\n",
      "[2.32739556e-03 6.07303553e+00]\n",
      "0.262 0.9781957512958982\n",
      "[2.32406922e-03 6.06422665e+00]\n",
      "0.263 0.978224878201692\n",
      "[2.32076023e-03 6.05545858e+00]\n",
      "0.264 0.9782504193074462\n",
      "[2.31746844e-03 6.04673099e+00]\n",
      "0.265 0.978272415860669\n",
      "[2.31419370e-03 6.03804356e+00]\n",
      "0.266 0.9782909085779389\n",
      "[2.31093585e-03 6.02939599e+00]\n",
      "0.267 0.9783059376530556\n",
      "[2.30769475e-03 6.02078795e+00]\n",
      "0.268 0.9783175427650527\n",
      "[2.30447024e-03 6.01221913e+00]\n",
      "0.269 0.9783257630860551\n",
      "4\n",
      "0.268\n"
     ]
    },
    {
     "name": "stdin",
     "output_type": "stream",
     "text": [
      " 1\n"
     ]
    },
    {
     "name": "stdout",
     "output_type": "stream",
     "text": [
      "Hi\n",
      "[2.30737155e-03 6.01992930e+00]\n",
      "0.2681 0.9783185164707572\n",
      "[2.30704852e-03 6.01907106e+00]\n",
      "0.2682 0.9783194563678587\n",
      "[2.30672566e-03 6.01821320e+00]\n",
      "0.26830000000000004 0.9783203624952039\n",
      "[2.30640296e-03 6.01735573e+00]\n",
      "0.2684 0.9783212348915887\n",
      "[2.30608043e-03 6.01649866e+00]\n",
      "0.2685 0.9783220735957592\n",
      "[2.30575806e-03 6.01564197e+00]\n",
      "0.2686 0.9783228786464129\n",
      "[2.30543586e-03 6.01478568e+00]\n",
      "0.2687 0.9783236500821954\n",
      "[2.30511382e-03 6.01392977e+00]\n",
      "0.26880000000000004 0.9783243879417065\n",
      "[2.30479195e-03 6.01307426e+00]\n",
      "0.26890000000000003 0.9783250922634932\n",
      "5\n",
      "0.26880000000000004\n"
     ]
    },
    {
     "name": "stdin",
     "output_type": "stream",
     "text": [
      " 1\n"
     ]
    },
    {
     "name": "stdout",
     "output_type": "stream",
     "text": [
      "Hi\n",
      "[2.30508163e-03 6.01384420e+00]\n",
      "0.26881000000000005 0.978324459882447\n",
      "[2.30504944e-03 6.01375864e+00]\n",
      "0.26882000000000006 0.9783245314878489\n",
      "[2.30501724e-03 6.01367308e+00]\n",
      "0.26883 0.9783246027579506\n",
      "[2.30498505e-03 6.01358752e+00]\n",
      "0.26884 0.978324673692791\n",
      "[2.30495287e-03 6.01350197e+00]\n",
      "0.26885000000000003 0.9783247442924077\n",
      "[2.30492068e-03 6.01341642e+00]\n",
      "0.26886000000000004 0.9783248145568403\n",
      "[2.30488850e-03 6.01333087e+00]\n",
      "0.26887000000000005 0.9783248844861265\n",
      "[2.30485631e-03 6.01324533e+00]\n",
      "0.26888000000000006 0.9783249540803048\n",
      "[2.30482413e-03 6.01315979e+00]\n",
      "0.26889 0.9783250233394146\n",
      "6\n",
      "0.26888000000000006\n"
     ]
    },
    {
     "name": "stdin",
     "output_type": "stream",
     "text": [
      " 1\n"
     ]
    },
    {
     "name": "stdout",
     "output_type": "stream",
     "text": [
      "Hi\n",
      "[2.30485309e-03 6.01323678e+00]\n",
      "0.26888100000000004 0.9783249610212933\n",
      "[2.30484988e-03 6.01322822e+00]\n",
      "0.26888200000000007 0.9783249679589311\n",
      "[2.30484666e-03 6.01321967e+00]\n",
      "0.26888300000000004 0.9783249748932183\n",
      "[2.30484344e-03 6.01321111e+00]\n",
      "0.26888400000000007 0.9783249818241548\n",
      "[2.30484022e-03 6.01320256e+00]\n",
      "0.26888500000000004 0.9783249887517409\n",
      "[2.30483700e-03 6.01319401e+00]\n",
      "0.26888600000000007 0.9783249956759764\n",
      "[2.30483379e-03 6.01318545e+00]\n",
      "0.26888700000000004 0.9783250025968613\n",
      "[2.30483057e-03 6.01317690e+00]\n",
      "0.26888800000000007 0.9783250095143964\n",
      "[2.30482735e-03 6.01316834e+00]\n",
      "0.26888900000000004 0.9783250164285806\n",
      "7\n",
      "0.26888800000000007\n"
     ]
    },
    {
     "name": "stdin",
     "output_type": "stream",
     "text": [
      " 0\n"
     ]
    }
   ],
   "source": [
    "x = sy.symbols('x')\n",
    "pi = np.pi\n",
    "steps = 100000\n",
    "\n",
    "def estimate_opt(x,a):\n",
    "    f = lambda x: (pi)**(-1/2)*(2*a/pi)**(3/4)*np.exp(-a*x**2 - x)*(4*pi*x**2) - 0.00001\n",
    "    k = np.array([0.1, 2])\n",
    "    lim = fsolve(f, k)\n",
    "    print(lim)\n",
    "    # don't just port sympy values into numpy!\n",
    "    #inp = np.linspace(llim, ulim, 100, endpoint=True)\n",
    "    inp = np.linspace(lim[0], lim[1], steps, endpoint=True)\n",
    "    #outp = (np.sum(f(inp,a)))\n",
    "    outp = (np.sum(f(inp)))*(lim[1] - lim[0])/steps\n",
    "    #outp = (np.sum(f(inp,a)))*100/2000\n",
    "    return outp\n",
    "        \n",
    "toggle = 1\n",
    "alpha = 0\n",
    "num = 1\n",
    "while toggle:\n",
    "    print('Hi')\n",
    "    list_val = []\n",
    "    for i in range(1,10):\n",
    "        a = alpha + i/(10**num)\n",
    "        outval = estimate_opt(x,a)\n",
    "        list_val.append(outval)\n",
    "        print(a, outval)\n",
    "    max(list_val)\n",
    "    max_index = list_val.index(max(list_val))\n",
    "    alpha += (max_index)/(10**num)\n",
    "    num += 1\n",
    "    print(num)\n",
    "    print(alpha)\n",
    "    toggle = int(input())"
   ]
  },
  {
   "cell_type": "code",
   "execution_count": null,
   "id": "e5c2410f-84d9-4ce7-952e-455160264c58",
   "metadata": {},
   "outputs": [],
   "source": []
  }
 ],
 "metadata": {
  "kernelspec": {
   "display_name": "Python 3",
   "language": "python",
   "name": "python3"
  },
  "language_info": {
   "codemirror_mode": {
    "name": "ipython",
    "version": 3
   },
   "file_extension": ".py",
   "mimetype": "text/x-python",
   "name": "python",
   "nbconvert_exporter": "python",
   "pygments_lexer": "ipython3",
   "version": "3.9.5"
  }
 },
 "nbformat": 4,
 "nbformat_minor": 5
}
