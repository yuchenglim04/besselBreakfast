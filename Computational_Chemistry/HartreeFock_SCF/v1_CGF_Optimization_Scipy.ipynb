{
 "cells": [
  {
   "cell_type": "code",
   "execution_count": 5,
   "id": "89818b41-bf8e-4200-9a30-c2ce096777ae",
   "metadata": {},
   "outputs": [],
   "source": [
    "from sympy.physics.hydrogen import Psi_nlm\n",
    "from sympy import Symbol\n",
    "import scipy.integrate as integrate #nsubmodule\n",
    "from scipy.optimize import minimize\n",
    "import numpy as np\n",
    "import matplotlib.pyplot as plt\n",
    "pi = np.pi"
   ]
  },
  {
   "cell_type": "code",
   "execution_count": 1,
   "id": "8880f8d3-abcd-4bf8-b92d-7537932901b4",
   "metadata": {},
   "outputs": [
    {
     "data": {
      "text/latex": [
       "$\\displaystyle \\frac{Z^{\\frac{3}{2}} e^{- Z r}}{\\sqrt{\\pi}}$"
      ],
      "text/plain": [
       "Z**(3/2)*exp(-Z*r)/sqrt(pi)"
      ]
     },
     "execution_count": 1,
     "metadata": {},
     "output_type": "execute_result"
    }
   ],
   "source": [
    "r=Symbol(\"r\", real=True, positive=True)\n",
    "phi=Symbol(\"phi\", real=True)\n",
    "theta=Symbol(\"theta\", real=True)\n",
    "Z=Symbol(\"Z\", positive=True, integer=True, nonzero=True)\n",
    "Psi_nlm(1,0,0,r,phi,theta,Z)"
   ]
  },
  {
   "cell_type": "code",
   "execution_count": 20,
   "id": "aac8ea8d-f32c-42d9-a1c8-0a8164935be1",
   "metadata": {},
   "outputs": [],
   "source": [
    "def integration(x):\n",
    "    return integrate.quad(lambda r: x(r)*4*pi*r**2,0,np.infty)\n"
   ]
  },
  {
   "cell_type": "code",
   "execution_count": 33,
   "id": "d2fb42c1-be25-4d80-b658-b3e97f3ef025",
   "metadata": {},
   "outputs": [
    {
     "name": "stdout",
     "output_type": "stream",
     "text": [
      "Optimization terminated successfully.\n",
      "         Current function value: 0.043191\n",
      "         Iterations: 24\n",
      "         Function evaluations: 48\n",
      "[0.27094981]\n"
     ]
    }
   ],
   "source": [
    "GTO_1 = lambda r,a: (2*a/pi)**(3/4)*np.exp(-a*r**2)\n",
    "STO_1 = lambda r: pi**(-1/2)*np.exp(-r)\n",
    "\n",
    "def func(a):\n",
    "    return integrate.quad(lambda r: ((GTO_1(r,a)-STO_1(r))**2)*(4*pi*r**2), 0, np.infty)[0]\n",
    "\n",
    "x0 = np.array([0.3])\n",
    "#x0 = 1.0\n",
    "res = minimize(func, x0, method='nelder-mead', options={'xatol': 1e-8, 'disp': True})\n",
    "print(res.x)"
   ]
  },
  {
   "cell_type": "code",
   "execution_count": 38,
   "id": "2321ad41-23f6-49e4-aba4-68faf31eba93",
   "metadata": {},
   "outputs": [
    {
     "name": "stdout",
     "output_type": "stream",
     "text": [
      "Optimization terminated successfully.\n",
      "         Current function value: 0.003158\n",
      "         Iterations: 251\n",
      "         Function evaluations: 434\n",
      "[0.15162329 0.67784065 0.85181866 0.42944877]\n"
     ]
    }
   ],
   "source": [
    "GTO_1 = lambda r,a: (2*a/pi)**(3/4)*np.exp(-a*r**2)\n",
    "STO_1 = lambda r: pi**(-1/2)*np.exp(-r)\n",
    "\n",
    "def func(a):\n",
    "    return integrate.quad(lambda r: (((a[1]*GTO_1(r,a[0])+a[3]*GTO_1(r,a[2]))-STO_1(r))**2)*(4*pi*r**2), 0, np.infty)[0]\n",
    "\n",
    "x0 = np.array([0.3, 0.4, 0.5, 0.6])\n",
    "#x0 = 1.0\n",
    "res = minimize(func, x0, method='nelder-mead', options={'xatol': 1e-8, 'disp': True})\n",
    "print(res.x)"
   ]
  },
  {
   "cell_type": "code",
   "execution_count": 39,
   "id": "94966123-d97e-40bb-ac07-992924de6923",
   "metadata": {},
   "outputs": [
    {
     "name": "stdout",
     "output_type": "stream",
     "text": [
      " final_simplex: (array([[0.15162329, 0.67784065, 0.85181866, 0.42944877],\n",
      "       [0.15162329, 0.67784064, 0.85181865, 0.42944877],\n",
      "       [0.15162329, 0.67784065, 0.85181867, 0.42944877],\n",
      "       [0.15162329, 0.67784064, 0.85181866, 0.42944877],\n",
      "       [0.15162329, 0.67784064, 0.85181865, 0.42944877]]), array([0.0031581, 0.0031581, 0.0031581, 0.0031581, 0.0031581]))\n",
      "           fun: 0.003158096896916917\n",
      "       message: 'Optimization terminated successfully.'\n",
      "          nfev: 434\n",
      "           nit: 251\n",
      "        status: 0\n",
      "       success: True\n",
      "             x: array([0.15162329, 0.67784065, 0.85181866, 0.42944877])\n"
     ]
    }
   ],
   "source": [
    "print(res)"
   ]
  },
  {
   "cell_type": "code",
   "execution_count": 46,
   "id": "fabbd98a-31a6-4f3e-a6b6-49a0e553f753",
   "metadata": {},
   "outputs": [
    {
     "name": "stdout",
     "output_type": "stream",
     "text": [
      "Optimization terminated successfully.\n",
      "         Current function value: 0.000331\n",
      "         Iterations: 719\n",
      "         Function evaluations: 1117\n",
      "CPU times: user 12.9 s, sys: 0 ns, total: 12.9 s\n",
      "Wall time: 13 s\n",
      "[0.10981751 0.44456106 0.40577115 0.53523967 2.22766056 0.15430346]\n"
     ]
    }
   ],
   "source": [
    "GTO_1 = lambda r,a: (2*a/pi)**(3/4)*np.exp(-a*r**2)\n",
    "STO_1 = lambda r: pi**(-1/2)*np.exp(-r)\n",
    "\n",
    "def func(a):\n",
    "    return integrate.quad(lambda r: (((a[1]*GTO_1(r,a[0])+a[3]*GTO_1(r,a[2])+a[5]*GTO_1(r,a[4]))-STO_1(r))**2)*(4*pi*r**2), 0, np.infty)[0]\n",
    "\n",
    "x0 = np.array([0.3, 0.4, 0.5, 0.6, 1, 0.2])\n",
    "#x0 = 1.0\n",
    "%time res = minimize(func, x0, method='nelder-mead', options={'xatol': 1e-8, 'disp': True})\n",
    "print(res.x)"
   ]
  },
  {
   "cell_type": "code",
   "execution_count": null,
   "id": "9fd55923-5b24-434d-bf32-39155b2f4a82",
   "metadata": {},
   "outputs": [],
   "source": []
  }
 ],
 "metadata": {
  "kernelspec": {
   "display_name": "Python 3",
   "language": "python",
   "name": "python3"
  },
  "language_info": {
   "codemirror_mode": {
    "name": "ipython",
    "version": 3
   },
   "file_extension": ".py",
   "mimetype": "text/x-python",
   "name": "python",
   "nbconvert_exporter": "python",
   "pygments_lexer": "ipython3",
   "version": "3.9.5"
  }
 },
 "nbformat": 4,
 "nbformat_minor": 5
}
