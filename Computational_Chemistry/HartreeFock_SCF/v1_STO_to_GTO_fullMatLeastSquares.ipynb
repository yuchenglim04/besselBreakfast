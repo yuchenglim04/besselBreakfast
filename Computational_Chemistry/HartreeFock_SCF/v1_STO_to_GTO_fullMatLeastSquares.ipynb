{
 "cells": [
  {
   "cell_type": "code",
   "execution_count": 8,
   "id": "446094e2-2dc5-4f2c-a2e9-b2725d5f5afd",
   "metadata": {},
   "outputs": [],
   "source": [
    "import scipy as sc\n",
    "import numpy as np"
   ]
  },
  {
   "cell_type": "markdown",
   "id": "5bfecee5-39b9-4f14-8c9c-ac3f7f384aa5",
   "metadata": {},
   "source": [
    "## Integral 1\n",
    "Integrate $\\int_0^\\infty r^k e^{-Br^2 -r} dr$"
   ]
  },
  {
   "cell_type": "markdown",
   "id": "cc8c3183-f13a-425e-abee-e1f43213e4a7",
   "metadata": {},
   "source": [
    "### Test 1"
   ]
  },
  {
   "cell_type": "code",
   "execution_count": 135,
   "id": "49afb50d-5fd0-4773-8ad0-34a2922ac609",
   "metadata": {},
   "outputs": [],
   "source": [
    "#x = np.linspace(-0.1, -10, 5)\n",
    "pi = np.pi\n",
    "\n",
    "#sc.special.hyperu(1, 1, x)\n",
    "\n",
    "def G(k,x):\n",
    "    return (pi)**(1/2)*sc.special.factorial(k)*np.exp(x)*x**(k/2+1)*\\\n",
    "    ((sc.special.hyperu(-k/2,1/2,-x))/(x**(1/2)*sc.special.gamma(k/2+1)) -\\\n",
    "     2*(sc.special.hyperu(-k/2,1/2,-x))/(sc.special.gamma((k+1)/2)))"
   ]
  },
  {
   "cell_type": "code",
   "execution_count": 137,
   "id": "c4d38d65-b6e7-4cf8-98c7-0d5f5b76bca0",
   "metadata": {},
   "outputs": [
    {
     "data": {
      "text/plain": [
       "nan"
      ]
     },
     "execution_count": 137,
     "metadata": {},
     "output_type": "execute_result"
    }
   ],
   "source": [
    "#x = np.linspace(-10,-1,10)\n",
    "#k=4\n",
    "\n",
    "k=4\n",
    "B = 0.8\n",
    "G(k,1/(4*B))"
   ]
  },
  {
   "cell_type": "code",
   "execution_count": 45,
   "id": "fc89e2b6-6d10-4379-ab18-7d4edb0e6b09",
   "metadata": {},
   "outputs": [
    {
     "data": {
      "text/plain": [
       "array([7.80817882e+06, 6.87946335e+11, 3.40943094e+16, 1.33507047e+21,\n",
       "       4.59482564e+25, 1.45739189e+30, 4.36932898e+34, 1.25702368e+39,\n",
       "       3.50423580e+43, 9.52912716e+47])"
      ]
     },
     "execution_count": 45,
     "metadata": {},
     "output_type": "execute_result"
    }
   ],
   "source": [
    "def G(k,x):\n",
    "    return (pi)**(1/2)*sc.special.factorial(k)*np.exp(x)*x**(k/2+1)#*\\\n",
    "    #((sc.special.hyperu(-k/2,1/2,-x)))\n",
    "\n",
    "x = np.linspace(10, 100, 10)\n",
    "k=2\n",
    "G(k,x)"
   ]
  },
  {
   "cell_type": "code",
   "execution_count": 39,
   "id": "a95d79a0-9d37-4cad-8dbb-296e472de817",
   "metadata": {},
   "outputs": [
    {
     "data": {
      "text/plain": [
       "array([nan, nan, nan, nan, nan, nan, nan, nan, nan, nan])"
      ]
     },
     "execution_count": 39,
     "metadata": {},
     "output_type": "execute_result"
    }
   ],
   "source": [
    "sc.special.hyperu(-k/2,1/2,-x)"
   ]
  },
  {
   "cell_type": "markdown",
   "id": "cbb71364-71d9-44a6-ad69-8aceb6b20a79",
   "metadata": {},
   "source": [
    "### Test 2\n",
    "Kummer's function, not hyperu!"
   ]
  },
  {
   "cell_type": "code",
   "execution_count": 75,
   "id": "ffb7e1ed-328f-4771-b0d0-a2b1edfa58b0",
   "metadata": {},
   "outputs": [
    {
     "data": {
      "text/plain": [
       "0.010074602839286835"
      ]
     },
     "execution_count": 75,
     "metadata": {},
     "output_type": "execute_result"
    }
   ],
   "source": [
    "#x = np.linspace(-0.1, -10, 5)\n",
    "pi = np.pi\n",
    "\n",
    "#sc.special.hyperu(1, 1, x)\n",
    "\n",
    "def G(k,x):\n",
    "    return (pi)**(1/2)*sc.special.factorial(k)*np.exp(x)*x**(k/2+1)*\\\n",
    "    ((sc.special.hyp1f1(-k/2,1/2,-x))/(x**(1/2)*sc.special.gamma(k/2+1)) -\\\n",
    "     2*(sc.special.hyp1f1((1-k)/2,3/2,-x))/(sc.special.gamma((k+1)/2)))\n",
    "\n",
    "#x = np.linspace(-10,-1,10)\n",
    "#k=4\n",
    "\n",
    "k=4\n",
    "B = 4\n",
    "G(k,1/(4*B))"
   ]
  },
  {
   "cell_type": "code",
   "execution_count": 76,
   "id": "7b41cbb6-d908-456d-bdcc-707135d79163",
   "metadata": {},
   "outputs": [
    {
     "data": {
      "text/plain": [
       "(0.010074602839293744, 1.3767146378968278e-10)"
      ]
     },
     "execution_count": 76,
     "metadata": {},
     "output_type": "execute_result"
    }
   ],
   "source": [
    "sc.integrate.quad(lambda r: r**k*np.exp(-B*r**2-r), 0, np.inf)"
   ]
  },
  {
   "cell_type": "markdown",
   "id": "a9c7310c-c4ce-41c3-be67-205e927f5732",
   "metadata": {},
   "source": [
    "## Integral 2\n",
    "$\\int_0^\\infty r^k e^{-Ar^2} dr$"
   ]
  },
  {
   "cell_type": "code",
   "execution_count": 127,
   "id": "7da5cdaf-eb79-4d7e-9f10-dcd4146c67ba",
   "metadata": {},
   "outputs": [],
   "source": [
    "gam = lambda k,A: sc.special.gamma((k+1)/2)/(2*A**((k+1)/2))"
   ]
  },
  {
   "cell_type": "markdown",
   "id": "835e7a3c-458d-42bd-b61b-d8c6eaa29a6e",
   "metadata": {},
   "source": [
    "## Solve matrix equations using analytical expression"
   ]
  },
  {
   "cell_type": "code",
   "execution_count": 96,
   "id": "f4358201-da77-433a-9c69-140c73a2b81a",
   "metadata": {},
   "outputs": [],
   "source": [
    "#Solve\n",
    "def GTO_1(a,b): \n",
    "    return lambda r: b*(2*a/pi)**(3/4)*np.exp(-a*r**2)\n",
    "def STO_1():\n",
    "    return lambda r: (1/pi)**(1/2)*np.exp(-r)\n",
    "    \n",
    "#B = np.array()\n",
    "#W = np.array()\n",
    "#P = np.array()"
   ]
  },
  {
   "cell_type": "code",
   "execution_count": 110,
   "id": "3875d125-1244-41d1-88d8-4e9eb2513e50",
   "metadata": {},
   "outputs": [],
   "source": [
    "#Solve\n",
    "\n",
    "def GTO_1(r):\n",
    "    return b*(2*a/pi)**(3/4)*np.exp(-a*r**2)\n",
    "\n",
    "def STO_1(r):\n",
    "    return (1/pi)**(1/2)*np.exp(-r)\n",
    "    \n",
    "#B = np.array()\n",
    "#W = np.array()\n",
    "#P = np.array()"
   ]
  },
  {
   "cell_type": "code",
   "execution_count": 89,
   "id": "d28521c6-49ef-480d-b56f-738b8eb43531",
   "metadata": {},
   "outputs": [
    {
     "data": {
      "text/plain": [
       "<function __main__.GTO_1.<locals>.<lambda>(r)>"
      ]
     },
     "execution_count": 89,
     "metadata": {},
     "output_type": "execute_result"
    }
   ],
   "source": [
    "a = 1\n",
    "GTO_1(a)"
   ]
  },
  {
   "cell_type": "code",
   "execution_count": 115,
   "id": "c2fe02de-df37-4dd0-a46c-46b0caf89959",
   "metadata": {},
   "outputs": [
    {
     "data": {
      "text/plain": [
       "(-0.09890694800826817, 9.817147292262516e-12)"
      ]
     },
     "execution_count": 115,
     "metadata": {},
     "output_type": "execute_result"
    }
   ],
   "source": [
    "a = 1\n",
    "b = 1\n",
    "    \n",
    "sc.integrate.quad(lambda r: ((1/pi)**(1/2)*np.exp(-r) - b*(2*a/pi)**(3/4)*np.exp(-a*r**2))*( b*(2*a/pi)**(3/4)*np.exp(-a*r**2)), 0, np.inf)"
   ]
  },
  {
   "cell_type": "code",
   "execution_count": 145,
   "id": "6f8f8aab-ddac-4e46-90cd-6312b2acf834",
   "metadata": {},
   "outputs": [
    {
     "data": {
      "text/plain": [
       "(-0.09890694800826817, 9.817147292262516e-12)"
      ]
     },
     "execution_count": 145,
     "metadata": {},
     "output_type": "execute_result"
    }
   ],
   "source": [
    "#Solve\n",
    "GTO_1 = lambda r: (2*a/pi)**(3/4)*np.exp(-a*r**2)\n",
    "STO_1 = lambda r: pi**(-1/2)*np.exp(-r)\n",
    "\n",
    "a = 1\n",
    "b = 1\n",
    "    \n",
    "sc.integrate.quad(lambda r: (STO_1(r) - b*GTO_1(r))*GTO_1(r), 0, np.inf)"
   ]
  },
  {
   "cell_type": "code",
   "execution_count": 147,
   "id": "9f3132aa-edb3-4733-abcb-8ebe48f8c399",
   "metadata": {},
   "outputs": [
    {
     "data": {
      "text/plain": [
       "-0.09890694800826821"
      ]
     },
     "execution_count": 147,
     "metadata": {},
     "output_type": "execute_result"
    }
   ],
   "source": [
    "a = 1\n",
    "b = 1\n",
    "\n",
    "coef_GTO_1 = lambda a: (2*a/pi)**(3/4)\n",
    "coef_STO_1 = pi**(-1/2)\n",
    "\n",
    "gam = lambda k,A: sc.special.gamma((k+1)/2)/(2*A**((k+1)/2))\n",
    "\n",
    "G = lambda k,x: (pi)**(1/2)*sc.special.factorial(k)*np.exp(x)*x**(k/2+1)*\\\n",
    "    ((sc.special.hyp1f1(-k/2,1/2,-x))/(x**(1/2)*sc.special.gamma(k/2+1)) -\\\n",
    "     2*(sc.special.hyp1f1((1-k)/2,3/2,-x))/(sc.special.gamma((k+1)/2)))\n",
    "\n",
    "#remember the 1/(4*a)\n",
    "coef_STO_1*coef_GTO_1(a)*G(0,1/(4*a)) - b*coef_GTO_1(a)**2*gam(0,2*a)"
   ]
  },
  {
   "cell_type": "code",
   "execution_count": 156,
   "id": "752188a1-8d84-4084-b420-cb2df5dff02d",
   "metadata": {},
   "outputs": [
    {
     "data": {
      "text/plain": [
       "(-0.05862969246395515, 2.275796467612097e-09)"
      ]
     },
     "execution_count": 156,
     "metadata": {},
     "output_type": "execute_result"
    }
   ],
   "source": [
    "sc.integrate.quad(lambda r: (STO_1(r) - b*GTO_1(r))*GTO_1(r)*(3/(4*a) - r**2), 0, np.inf)"
   ]
  },
  {
   "cell_type": "code",
   "execution_count": 157,
   "id": "82bdd376-3f22-44da-a18b-3cd97a06998f",
   "metadata": {},
   "outputs": [
    {
     "data": {
      "text/plain": [
       "-0.058629692463947905"
      ]
     },
     "execution_count": 157,
     "metadata": {},
     "output_type": "execute_result"
    }
   ],
   "source": [
    "b*((coef_STO_1*coef_GTO_1(a)*G(0,1/(4*a)) - b*coef_GTO_1(a)**2*gam(0,2*a))*3/(4*a) - coef_GTO_1(a)\\\n",
    "*coef_STO_1*G(2,1/(4*a)) + b*coef_GTO_1(a)**2*gam(2,2*a))   "
   ]
  },
  {
   "cell_type": "markdown",
   "id": "5f4381cb-8e5d-464c-b58c-20164d2697dc",
   "metadata": {},
   "source": [
    "## Solve matrix equations using matrix, integrate using quad"
   ]
  },
  {
   "cell_type": "markdown",
   "id": "5161681b-9099-49c8-a685-54bb5537df4a",
   "metadata": {},
   "source": [
    "### using exec()"
   ]
  },
  {
   "cell_type": "markdown",
   "id": "1c5ba9e5-dde2-4de4-88c3-3fa8679aba4b",
   "metadata": {},
   "source": [
    "First, determine how many GTOs to use.\n",
    "Then use exec?"
   ]
  },
  {
   "cell_type": "code",
   "execution_count": null,
   "id": "39ede34b-c132-4f24-a95c-6b8dec43cf48",
   "metadata": {},
   "outputs": [],
   "source": [
    "GTO_1 = lambda r,a: (2*a/pi)**(3/4)*np.exp(-a*r**2)\n",
    "STO_1 = lambda r: pi**(-1/2)*np.exp(-r)\n",
    "#sc.integrate.quad(lamdbda r:(STO_1(r) - GTO_1(r))*(GTO_1(r)) ,0, np.inf)"
   ]
  },
  {
   "cell_type": "code",
   "execution_count": 166,
   "id": "24f49b6f-b952-43e9-895f-81cd2e15fb12",
   "metadata": {},
   "outputs": [
    {
     "name": "stdout",
     "output_type": "stream",
     "text": [
      "\n",
      "a\n",
      "b \n",
      "c\n"
     ]
    }
   ],
   "source": [
    "main = '''\n",
    "a\n",
    "'''\n",
    "\n",
    "print(main + 'b \\n' + 'c')"
   ]
  },
  {
   "cell_type": "code",
   "execution_count": null,
   "id": "754c2e44-a2ba-41a0-a7e3-535eeb1b0005",
   "metadata": {},
   "outputs": [],
   "source": [
    "main \n",
    "#1\n",
    "\n",
    "#2\n",
    "\n",
    "#3\n",
    "\n",
    "\n",
    "\n"
   ]
  },
  {
   "cell_type": "code",
   "execution_count": 192,
   "id": "d5ca1a14-451a-4756-8997-63bb104f98e5",
   "metadata": {},
   "outputs": [
    {
     "name": "stdin",
     "output_type": "stream",
     "text": [
      "how many GTOs? 2\n"
     ]
    },
    {
     "name": "stdout",
     "output_type": "stream",
     "text": [
      "a1 = P[0] \n",
      "a2 = P[1] \n",
      "\n",
      "d1 = P[2] \n",
      "d2 = P[3] \n",
      "\n"
     ]
    }
   ],
   "source": [
    "num_GTO = int(input('how many GTOs?'))\n",
    "\n",
    "#add GTOs to chi\n",
    "str_chi = 'chi = lambda r: d1*GTO_1(r,a1)'\n",
    "\n",
    "for i in range(2, num_GTO +1):\n",
    "    str_chi += '+ d{0}*GTO_1(r,a{0}) '.format(i)\n",
    "    \n",
    "str_chi += '\\n'\n",
    "\n",
    "#add the a's\n",
    "str_a_s = 'a1 = P[0] \\n'\n",
    "\n",
    "for i in range(2, num_GTO +1):\n",
    "    str_a_s += 'a{0} = P[{1}] \\n'.format(i,i-1)\n",
    "\n",
    "str_d_s = 'd1 = P[{0}] \\n'.format(num_GTO)\n",
    "\n",
    "for i in range(2, num_GTO +1):\n",
    "    str_d_s += 'd{0} = P[{1}] \\n'.format(i,num_GTO+i-1)\n",
    "\n",
    "print(str_a_s)\n",
    "print(str_d_s)\n",
    "\n",
    "# initial value of P\n",
    "P = np.array()"
   ]
  },
  {
   "cell_type": "code",
   "execution_count": 171,
   "id": "57f48f24-e693-4d2d-a8f0-a27d46f1f18e",
   "metadata": {},
   "outputs": [
    {
     "data": {
      "text/plain": [
       "1"
      ]
     },
     "execution_count": 171,
     "metadata": {},
     "output_type": "execute_result"
    }
   ],
   "source": [
    "+1"
   ]
  },
  {
   "cell_type": "code",
   "execution_count": 175,
   "id": "e4892e89-8412-43e5-9835-9cead38a849f",
   "metadata": {},
   "outputs": [],
   "source": [
    "str_b_integral = 'sp.integrate.quad(lamdbda r:(STO_1(r) - chi(r))*(par_chi_i(r)) ,0, np.inf)'\n",
    "list_B = [exec() for i in range(1,2*num_GTO + 1)]"
   ]
  },
  {
   "cell_type": "code",
   "execution_count": 199,
   "id": "76cc7207-99b8-465d-ae59-474317f5c0e6",
   "metadata": {},
   "outputs": [
    {
     "data": {
      "text/plain": [
       "[None, None, None, None]"
      ]
     },
     "execution_count": 199,
     "metadata": {},
     "output_type": "execute_result"
    }
   ],
   "source": [
    "list_B = [exec('sc.integrate.quad(lambda x: x**{0},0,1)'.format(i)) for i in range(1,2*num_GTO + 1)]\n",
    "list_B"
   ]
  },
  {
   "cell_type": "code",
   "execution_count": 200,
   "id": "a4bfdbdf-b4bd-48e0-a52c-c2b4771970e9",
   "metadata": {},
   "outputs": [
    {
     "data": {
      "text/plain": [
       "[None, None, None, None]"
      ]
     },
     "execution_count": 200,
     "metadata": {},
     "output_type": "execute_result"
    }
   ],
   "source": [
    "def return_int(i):\n",
    "    return sc.integrate.quad(lambda x: x**i,0,1)\n",
    "list_B = [exec('return_int({0})'.format(i)) for i in range(1,2*num_GTO + 1)]\n",
    "list_B"
   ]
  },
  {
   "cell_type": "code",
   "execution_count": 201,
   "id": "8c044a07-70a2-4110-bed8-368c97c4ef70",
   "metadata": {},
   "outputs": [
    {
     "data": {
      "text/plain": [
       "(0.5, 5.551115123125783e-15)"
      ]
     },
     "execution_count": 201,
     "metadata": {},
     "output_type": "execute_result"
    }
   ],
   "source": [
    "return_int(1)"
   ]
  },
  {
   "cell_type": "markdown",
   "id": "991f63c2-d71a-4474-8802-3e094e072de4",
   "metadata": {},
   "source": [
    "### using list and exec"
   ]
  },
  {
   "cell_type": "code",
   "execution_count": 286,
   "id": "b554eb03-409b-4704-9196-7f52b1d0e941",
   "metadata": {},
   "outputs": [
    {
     "name": "stdin",
     "output_type": "stream",
     "text": [
      "how many GTOs? 2\n"
     ]
    }
   ],
   "source": [
    "num_GTO = int(input('how many GTOs?'))\n",
    "\n",
    "#add GTOs to chi\n",
    "str_chi = 'd[0]*GTO_1(r,a[0])'\n",
    "\n",
    "for i in range(2, num_GTO +1):\n",
    "    str_chi += '+ d[{0}]*GTO_1(r,a[{0}]) '.format(i-1)\n",
    "    \n",
    "str_chi += '\\n'\n",
    "\n",
    "# initial value of P\n",
    "#P = np.zeros(2*num_GTO + 1) + 0.1\n",
    "P = [i*0.05 for i in range (1,2*num_GTO + 2)]\n",
    "\n",
    "#a array\n",
    "a = P[0 : num_GTO]\n",
    "#d list\n",
    "d = P[num_GTO : 2*num_GTO+1]\n",
    "\n",
    "lambd = P[2*num_GTO]"
   ]
  },
  {
   "cell_type": "code",
   "execution_count": 287,
   "id": "2e7239dc-5255-4960-8bb3-8aa3a76ca872",
   "metadata": {},
   "outputs": [
    {
     "name": "stderr",
     "output_type": "stream",
     "text": [
      "<ipython-input-287-e77bd4d3102f>:7: IntegrationWarning: The integral is probably divergent, or slowly convergent.\n",
      "  return sc.integrate.quad(x ,0, np.inf)[0]\n",
      "<ipython-input-287-e77bd4d3102f>:7: IntegrationWarning: The maximum number of subdivisions (50) has been achieved.\n",
      "  If increasing the limit yields no improvement it is advised to analyze \n",
      "  the integrand in order to determine the difficulties.  If the position of a \n",
      "  local difficulty can be determined (singularity, discontinuity) one will \n",
      "  probably gain from splitting up the interval and calling the integrator \n",
      "  on the subranges.  Perhaps a special-purpose integrator should be used.\n",
      "  return sc.integrate.quad(x ,0, np.inf)[0]\n"
     ]
    }
   ],
   "source": [
    "GTO_1 = lambda r,a: (2*a/pi)**(3/4)*np.exp(-a*r**2)\n",
    "STO_1 = lambda r: pi**(-1/2)*np.exp(-r)\n",
    "par_GTO_a = lambda r,i: (GTO_1(r,a[i-1]))\n",
    "par_GTO_d = lambda r,i: (GTO_1(r,a[i-1]))*(3/(4*a[i-1] - r**2))\n",
    "\n",
    "def integ(x):\n",
    "    return sc.integrate.quad(x ,0, np.inf)[0]\n",
    "\n",
    "main = '''\n",
    "b_integral_a = lambda i: integ(lambda r:(STO_1(r) - {0})*par_GTO_a(r,i))\n",
    "\n",
    "b_integral_d = lambda i:integ(lambda r:(STO_1(r) - {0})*par_GTO_d(r,i))\n",
    "\n",
    "list_B = [b_integral_a(i) for i in range(1,num_GTO + 1)] + \\\n",
    "[b_integral_d(i) for i in range(1, num_GTO + 1)]\n",
    "\n",
    "array_B = np.array(list_B)\n",
    "'''.format(str_chi)\n",
    "\n",
    "exec(main)"
   ]
  },
  {
   "cell_type": "code",
   "execution_count": 255,
   "id": "6385551c-eb59-4557-9ab6-422bf88dfcf6",
   "metadata": {},
   "outputs": [
    {
     "name": "stdout",
     "output_type": "stream",
     "text": [
      "[0.061879718067350827, 0.061879718067350827, 0.6532912487988252, 0.6532912487988252]\n",
      "[0.06187972 0.06187972 0.65329125 0.65329125]\n"
     ]
    }
   ],
   "source": [
    "print(list_B)\n",
    "print(array_B)"
   ]
  },
  {
   "cell_type": "markdown",
   "id": "b8a24786-a57b-4f5a-b0fb-351563ab33f6",
   "metadata": {},
   "source": [
    "Why is it truncated?"
   ]
  },
  {
   "cell_type": "code",
   "execution_count": 288,
   "id": "f3b6e61b-bb37-4a25-a70d-1801c8fc2741",
   "metadata": {},
   "outputs": [
    {
     "name": "stderr",
     "output_type": "stream",
     "text": [
      "<ipython-input-287-e77bd4d3102f>:7: IntegrationWarning: The integral is probably divergent, or slowly convergent.\n",
      "  return sc.integrate.quad(x ,0, np.inf)[0]\n",
      "<ipython-input-287-e77bd4d3102f>:7: IntegrationWarning: The algorithm does not converge.  Roundoff error is detected\n",
      "  in the extrapolation table.  It is assumed that the requested tolerance\n",
      "  cannot be achieved, and that the returned result (if full_output = 1) is \n",
      "  the best which can be obtained.\n",
      "  return sc.integrate.quad(x ,0, np.inf)[0]\n",
      "<ipython-input-287-e77bd4d3102f>:7: IntegrationWarning: The maximum number of subdivisions (50) has been achieved.\n",
      "  If increasing the limit yields no improvement it is advised to analyze \n",
      "  the integrand in order to determine the difficulties.  If the position of a \n",
      "  local difficulty can be determined (singularity, discontinuity) one will \n",
      "  probably gain from splitting up the interval and calling the integrator \n",
      "  on the subranges.  Perhaps a special-purpose integrator should be used.\n",
      "  return sc.integrate.quad(x ,0, np.inf)[0]\n"
     ]
    }
   ],
   "source": [
    "#Partition into four blocks, up_left, up_right = low_left transpose, up_right\n",
    "#j is row, k is colume\n",
    "up_left = [[ integ(lambda r: par_GTO_a(r,j)*par_GTO_a(r,k)) for k in range (1,num_GTO+1)] for j in range (1,num_GTO+1)]\n",
    "\n",
    "up_right = [[ integ(lambda r: par_GTO_a(r,j)*par_GTO_d(r,k)) for k in range (1,num_GTO+1)] for j in range (1,num_GTO+1)]\n",
    "\n",
    "low_left= [[ integ(lambda r: par_GTO_d(r,j)*par_GTO_a(r,k)) for k in range (1,num_GTO+1)] for j in range (1,num_GTO+1)]\n",
    "            \n",
    "low_right = [[ integ(lambda r: par_GTO_d(r,j)*par_GTO_d(r,k)) for k in range (1,num_GTO+1)] for j in range (1,num_GTO+1)]\n",
    "\n",
    "#Add same column\n",
    "array_W = np.array([up_left[i] + low_left[i] for i in range(0, num_GTO)] + [up_right[i] + low_right[i] for i in range(0, num_GTO)])\n",
    "P += np.linalg.solve(array_W, array_B)"
   ]
  },
  {
   "cell_type": "code",
   "execution_count": 289,
   "id": "9a788437-85e8-4a58-8920-39e17340d601",
   "metadata": {},
   "outputs": [
    {
     "data": {
      "text/plain": [
       "array([[ 1.59154943e-02,  2.18548082e-02,  1.53933000e-02,\n",
       "         2.92215456e-02],\n",
       "       [ 2.18548082e-02,  3.18309886e-02, -2.50367572e-02,\n",
       "        -3.62074663e-02],\n",
       "       [ 1.53933000e-02, -2.50367572e-02,  6.42544758e+06,\n",
       "        -1.57042653e+01],\n",
       "       [ 2.92215456e-02, -3.62074663e-02, -1.57042653e+01,\n",
       "         1.64188454e+01]])"
      ]
     },
     "execution_count": 289,
     "metadata": {},
     "output_type": "execute_result"
    }
   ],
   "source": [
    "array_W"
   ]
  },
  {
   "cell_type": "code",
   "execution_count": 290,
   "id": "d294f5e6-d531-4db5-87eb-6e9c189dd049",
   "metadata": {},
   "outputs": [
    {
     "data": {
      "text/plain": [
       "array([-8.13504311e+00,  7.70913802e+00,  2.58670713e-07,  7.26915493e-02])"
      ]
     },
     "execution_count": 290,
     "metadata": {},
     "output_type": "execute_result"
    }
   ],
   "source": [
    "np.linalg.solve(array_W, array_B)"
   ]
  },
  {
   "cell_type": "code",
   "execution_count": 345,
   "id": "2b6c6a32-49c6-4c64-8997-3a31d1582c89",
   "metadata": {},
   "outputs": [
    {
     "name": "stdin",
     "output_type": "stream",
     "text": [
      "how many GTOs? 2\n"
     ]
    }
   ],
   "source": [
    "num_GTO = int(input('how many GTOs?'))\n",
    "\n",
    "#add GTOs to chi\n",
    "str_chi = 'd[0]*GTO_1(r,a[0])'\n",
    "\n",
    "for i in range(2, num_GTO +1):\n",
    "    str_chi += '+ d[{0}]*GTO_1(r,a[{0}]) '.format(i-1)\n",
    "    \n",
    "str_chi += '\\n'\n",
    "\n",
    "# initial value of P\n",
    "#P = np.zeros(2*num_GTO + 1) + 0.1\n",
    "P = [i*0.05 for i in range (1,2*num_GTO + 2)]\n",
    "\n",
    "#a array\n",
    "a = P[0 : num_GTO]\n",
    "#d list\n",
    "d = P[num_GTO : 2*num_GTO+1]\n",
    "\n",
    "lambd = P[2*num_GTO]"
   ]
  },
  {
   "cell_type": "code",
   "execution_count": 344,
   "id": "d62d60cf-f956-4696-ab3a-c33b664c94e6",
   "metadata": {},
   "outputs": [
    {
     "name": "stderr",
     "output_type": "stream",
     "text": [
      "<ipython-input-344-12f31499e076>:7: IntegrationWarning: The integral is probably divergent, or slowly convergent.\n",
      "  return sc.integrate.quad(x ,0, np.inf)[0]\n",
      "<ipython-input-344-12f31499e076>:7: IntegrationWarning: The maximum number of subdivisions (50) has been achieved.\n",
      "  If increasing the limit yields no improvement it is advised to analyze \n",
      "  the integrand in order to determine the difficulties.  If the position of a \n",
      "  local difficulty can be determined (singularity, discontinuity) one will \n",
      "  probably gain from splitting up the interval and calling the integrator \n",
      "  on the subranges.  Perhaps a special-purpose integrator should be used.\n",
      "  return sc.integrate.quad(x ,0, np.inf)[0]\n"
     ]
    },
    {
     "name": "stdout",
     "output_type": "stream",
     "text": [
      "[ 34.89036613 -15.74273516   0.15000033   0.30812452   0.1267107 ]\n"
     ]
    },
    {
     "name": "stderr",
     "output_type": "stream",
     "text": [
      "<ipython-input-344-12f31499e076>:7: IntegrationWarning: The algorithm does not converge.  Roundoff error is detected\n",
      "  in the extrapolation table.  It is assumed that the requested tolerance\n",
      "  cannot be achieved, and that the returned result (if full_output = 1) is \n",
      "  the best which can be obtained.\n",
      "  return sc.integrate.quad(x ,0, np.inf)[0]\n"
     ]
    }
   ],
   "source": [
    "GTO_1 = lambda r,a: (2*a/pi)**(3/4)*np.exp(-a*r**2)\n",
    "STO_1 = lambda r: pi**(-1/2)*np.exp(-r)\n",
    "par_GTO_a = lambda r,i: (GTO_1(r,a[i-1]))\n",
    "par_GTO_d = lambda r,i: (GTO_1(r,a[i-1]))*(3/(4*a[i-1] - r**2))\n",
    "\n",
    "def integ(x):\n",
    "    return sc.integrate.quad(x ,0, np.inf)[0]\n",
    "\n",
    "main = '''\n",
    "b_integral_a = lambda i: integ(lambda r:(STO_1(r) - {0})*par_GTO_a(r,i))\n",
    "\n",
    "b_integral_d = lambda i:integ(lambda r:(STO_1(r) - {0})*par_GTO_d(r,i))\n",
    "\n",
    "list_B = [b_integral_a(i) for i in range(1,num_GTO + 1)] + \\\n",
    "[b_integral_d(i) for i in range(1, num_GTO + 1)] +\\\n",
    "[0.5*(1 - integ(lambda r: ({0}**2 )))]\n",
    "\n",
    "array_B = np.array(list_B)\n",
    "\n",
    "#for our lagrange multiplier\n",
    "last_row = [integ(lambda r: {0}*b_integral_a(i))for k in range (1,num_GTO+1)] +\\\n",
    "[integ(lambda r: {0}*b_integral_d(i))for k in range (1,num_GTO+1)] + [0]\n",
    "\n",
    "#last colum is constant\n",
    "lambd_const = 1 - integ(lambda r: {0}**2)\n",
    "'''.format(str_chi)\n",
    "\n",
    "exec(main)\n",
    "\n",
    "#Partition into four blocks, up_left, up_right = low_left transpose, up_right\n",
    "#j is row, k is column\n",
    "up_left = [[ integ(lambda r: par_GTO_a(r,j)*par_GTO_a(r,k)) for k in range (1,num_GTO+1)] for j in range (1,num_GTO+1)]\n",
    "\n",
    "up_right = [[ integ(lambda r: par_GTO_a(r,j)*par_GTO_d(r,k)) for k in range (1,num_GTO+1)] + [1] for j in range (1,num_GTO+1)]\n",
    "\n",
    "low_left= [[ integ(lambda r: par_GTO_d(r,j)*par_GTO_a(r,k)) for k in range (1,num_GTO+1)] for j in range (1,num_GTO+1)]\n",
    "            \n",
    "low_right = [[ integ(lambda r: par_GTO_d(r,j)*par_GTO_d(r,k)) for k in range (1,num_GTO+1)] + [1] for j in range (1,num_GTO+1)]\n",
    "\n",
    "#Add same rows\n",
    "list_W = [up_left[i] + up_right[i] for i in range(0, num_GTO)] + [low_left[i] + low_right[i] for i in range(0, num_GTO)] + [last_row]\n",
    "array_W = np.array(list_W)\n",
    "\n",
    "solution = np.linalg.solve(array_W, array_B)\n",
    "P += solution\n",
    "\n",
    "print(P)"
   ]
  },
  {
   "cell_type": "code",
   "execution_count": 343,
   "id": "c4f3cd5d-c10e-46ac-91a8-78a448f6388b",
   "metadata": {},
   "outputs": [
    {
     "name": "stdout",
     "output_type": "stream",
     "text": [
      "[17.47018306 -7.82136758  0.15000017  0.25406226  0.18835535]\n"
     ]
    }
   ],
   "source": [
    "print(P)"
   ]
  },
  {
   "cell_type": "markdown",
   "id": "ab5f3c51-a368-4aab-9b60-bb90f6792813",
   "metadata": {},
   "source": [
    "## need to add lambda"
   ]
  },
  {
   "cell_type": "code",
   "execution_count": 327,
   "id": "020825b1-0295-4d1c-bdaa-9d9164aa48c7",
   "metadata": {},
   "outputs": [],
   "source": [
    "up_left = [[integ(lambda r: par_GTO_a(r,j)*par_GTO_a(r,k)) for k in range (1,num_GTO+1)]  + [1] for j in range (1,num_GTO+1)]"
   ]
  },
  {
   "cell_type": "markdown",
   "id": "0a44267d-c994-4401-80d2-b2f23160683a",
   "metadata": {},
   "source": [
    "Added lambda, fixed integral, P cannot be all same otherwise singular matrix"
   ]
  },
  {
   "cell_type": "code",
   "execution_count": 351,
   "id": "f9026cec-ad70-4b17-acdb-c33e700e4683",
   "metadata": {},
   "outputs": [
    {
     "name": "stdin",
     "output_type": "stream",
     "text": [
      "how many GTOs? 2\n"
     ]
    }
   ],
   "source": [
    "num_GTO = int(input('how many GTOs?'))\n",
    "\n",
    "#add GTOs to chi\n",
    "str_chi = 'd[0]*GTO_1(r,a[0])'\n",
    "\n",
    "for i in range(2, num_GTO +1):\n",
    "    str_chi += '+ d[{0}]*GTO_1(r,a[{0}]) '.format(i-1)\n",
    "    \n",
    "str_chi += '\\n'\n",
    "\n",
    "# initial value of P\n",
    "P = np.zeros(2*num_GTO + 1) + 0.1\n",
    "#P = [i*0.05 for i in range (1,2*num_GTO + 2)]\n",
    "\n",
    "#a array\n",
    "a = P[0 : num_GTO]\n",
    "#d list\n",
    "d = P[num_GTO : 2*num_GTO+1]\n",
    "\n",
    "lambd = P[2*num_GTO]"
   ]
  },
  {
   "cell_type": "code",
   "execution_count": 352,
   "id": "ad06a76c-cff3-4fbc-801b-6926e3286649",
   "metadata": {},
   "outputs": [
    {
     "name": "stderr",
     "output_type": "stream",
     "text": [
      "<ipython-input-352-094cdf5cfd20>:7: IntegrationWarning: The integral is probably divergent, or slowly convergent.\n",
      "  return sc.integrate.quad(lambda r: x(r)*r**2 ,0, np.inf)[0]\n"
     ]
    },
    {
     "ename": "LinAlgError",
     "evalue": "Singular matrix",
     "output_type": "error",
     "traceback": [
      "\u001b[0;31m---------------------------------------------------------------------------\u001b[0m",
      "\u001b[0;31mLinAlgError\u001b[0m                               Traceback (most recent call last)",
      "\u001b[0;32m<ipython-input-352-094cdf5cfd20>\u001b[0m in \u001b[0;36m<module>\u001b[0;34m\u001b[0m\n\u001b[1;32m     42\u001b[0m \u001b[0marray_W\u001b[0m \u001b[0;34m=\u001b[0m \u001b[0mnp\u001b[0m\u001b[0;34m.\u001b[0m\u001b[0marray\u001b[0m\u001b[0;34m(\u001b[0m\u001b[0mlist_W\u001b[0m\u001b[0;34m)\u001b[0m\u001b[0;34m\u001b[0m\u001b[0;34m\u001b[0m\u001b[0m\n\u001b[1;32m     43\u001b[0m \u001b[0;34m\u001b[0m\u001b[0m\n\u001b[0;32m---> 44\u001b[0;31m \u001b[0msolution\u001b[0m \u001b[0;34m=\u001b[0m \u001b[0mnp\u001b[0m\u001b[0;34m.\u001b[0m\u001b[0mlinalg\u001b[0m\u001b[0;34m.\u001b[0m\u001b[0msolve\u001b[0m\u001b[0;34m(\u001b[0m\u001b[0marray_W\u001b[0m\u001b[0;34m,\u001b[0m \u001b[0marray_B\u001b[0m\u001b[0;34m)\u001b[0m\u001b[0;34m\u001b[0m\u001b[0;34m\u001b[0m\u001b[0m\n\u001b[0m\u001b[1;32m     45\u001b[0m \u001b[0mP\u001b[0m \u001b[0;34m+=\u001b[0m \u001b[0msolution\u001b[0m\u001b[0;34m\u001b[0m\u001b[0;34m\u001b[0m\u001b[0m\n\u001b[1;32m     46\u001b[0m \u001b[0;34m\u001b[0m\u001b[0m\n",
      "\u001b[0;32m<__array_function__ internals>\u001b[0m in \u001b[0;36msolve\u001b[0;34m(*args, **kwargs)\u001b[0m\n",
      "\u001b[0;32m/usr/lib/python3/dist-packages/numpy/linalg/linalg.py\u001b[0m in \u001b[0;36msolve\u001b[0;34m(a, b)\u001b[0m\n\u001b[1;32m    392\u001b[0m     \u001b[0msignature\u001b[0m \u001b[0;34m=\u001b[0m \u001b[0;34m'DD->D'\u001b[0m \u001b[0;32mif\u001b[0m \u001b[0misComplexType\u001b[0m\u001b[0;34m(\u001b[0m\u001b[0mt\u001b[0m\u001b[0;34m)\u001b[0m \u001b[0;32melse\u001b[0m \u001b[0;34m'dd->d'\u001b[0m\u001b[0;34m\u001b[0m\u001b[0;34m\u001b[0m\u001b[0m\n\u001b[1;32m    393\u001b[0m     \u001b[0mextobj\u001b[0m \u001b[0;34m=\u001b[0m \u001b[0mget_linalg_error_extobj\u001b[0m\u001b[0;34m(\u001b[0m\u001b[0m_raise_linalgerror_singular\u001b[0m\u001b[0;34m)\u001b[0m\u001b[0;34m\u001b[0m\u001b[0;34m\u001b[0m\u001b[0m\n\u001b[0;32m--> 394\u001b[0;31m     \u001b[0mr\u001b[0m \u001b[0;34m=\u001b[0m \u001b[0mgufunc\u001b[0m\u001b[0;34m(\u001b[0m\u001b[0ma\u001b[0m\u001b[0;34m,\u001b[0m \u001b[0mb\u001b[0m\u001b[0;34m,\u001b[0m \u001b[0msignature\u001b[0m\u001b[0;34m=\u001b[0m\u001b[0msignature\u001b[0m\u001b[0;34m,\u001b[0m \u001b[0mextobj\u001b[0m\u001b[0;34m=\u001b[0m\u001b[0mextobj\u001b[0m\u001b[0;34m)\u001b[0m\u001b[0;34m\u001b[0m\u001b[0;34m\u001b[0m\u001b[0m\n\u001b[0m\u001b[1;32m    395\u001b[0m \u001b[0;34m\u001b[0m\u001b[0m\n\u001b[1;32m    396\u001b[0m     \u001b[0;32mreturn\u001b[0m \u001b[0mwrap\u001b[0m\u001b[0;34m(\u001b[0m\u001b[0mr\u001b[0m\u001b[0;34m.\u001b[0m\u001b[0mastype\u001b[0m\u001b[0;34m(\u001b[0m\u001b[0mresult_t\u001b[0m\u001b[0;34m,\u001b[0m \u001b[0mcopy\u001b[0m\u001b[0;34m=\u001b[0m\u001b[0;32mFalse\u001b[0m\u001b[0;34m)\u001b[0m\u001b[0;34m)\u001b[0m\u001b[0;34m\u001b[0m\u001b[0;34m\u001b[0m\u001b[0m\n",
      "\u001b[0;32m/usr/lib/python3/dist-packages/numpy/linalg/linalg.py\u001b[0m in \u001b[0;36m_raise_linalgerror_singular\u001b[0;34m(err, flag)\u001b[0m\n\u001b[1;32m     86\u001b[0m \u001b[0;34m\u001b[0m\u001b[0m\n\u001b[1;32m     87\u001b[0m \u001b[0;32mdef\u001b[0m \u001b[0m_raise_linalgerror_singular\u001b[0m\u001b[0;34m(\u001b[0m\u001b[0merr\u001b[0m\u001b[0;34m,\u001b[0m \u001b[0mflag\u001b[0m\u001b[0;34m)\u001b[0m\u001b[0;34m:\u001b[0m\u001b[0;34m\u001b[0m\u001b[0;34m\u001b[0m\u001b[0m\n\u001b[0;32m---> 88\u001b[0;31m     \u001b[0;32mraise\u001b[0m \u001b[0mLinAlgError\u001b[0m\u001b[0;34m(\u001b[0m\u001b[0;34m\"Singular matrix\"\u001b[0m\u001b[0;34m)\u001b[0m\u001b[0;34m\u001b[0m\u001b[0;34m\u001b[0m\u001b[0m\n\u001b[0m\u001b[1;32m     89\u001b[0m \u001b[0;34m\u001b[0m\u001b[0m\n\u001b[1;32m     90\u001b[0m \u001b[0;32mdef\u001b[0m \u001b[0m_raise_linalgerror_nonposdef\u001b[0m\u001b[0;34m(\u001b[0m\u001b[0merr\u001b[0m\u001b[0;34m,\u001b[0m \u001b[0mflag\u001b[0m\u001b[0;34m)\u001b[0m\u001b[0;34m:\u001b[0m\u001b[0;34m\u001b[0m\u001b[0;34m\u001b[0m\u001b[0m\n",
      "\u001b[0;31mLinAlgError\u001b[0m: Singular matrix"
     ]
    }
   ],
   "source": [
    "GTO_1 = lambda r,a: (2*a/pi)**(3/4)*np.exp(-a*r**2)\n",
    "STO_1 = lambda r: pi**(-1/2)*np.exp(-r)\n",
    "par_GTO_a = lambda r,i: (GTO_1(r,a[i-1]))\n",
    "par_GTO_d = lambda r,i: (GTO_1(r,a[i-1]))*(3/(4*a[i-1] - r**2))\n",
    "\n",
    "def integ(x):\n",
    "    return sc.integrate.quad(lambda r: x(r)*r**2 ,0, np.inf)[0]\n",
    "\n",
    "main = '''\n",
    "b_integral_a = lambda i: integ(lambda r:(STO_1(r) - {0})*par_GTO_a(r,i))\n",
    "\n",
    "b_integral_d = lambda i:integ(lambda r:(STO_1(r) - {0})*par_GTO_d(r,i))\n",
    "\n",
    "list_B = [b_integral_a(i) for i in range(1,num_GTO + 1)] + \\\n",
    "[b_integral_d(i) for i in range(1, num_GTO + 1)] +\\\n",
    "[0.5*(1 - integ(lambda r: ({0}**2 )))]\n",
    "\n",
    "array_B = np.array(list_B)\n",
    "\n",
    "#for our lagrange multiplier\n",
    "last_row = [integ(lambda r: {0}*b_integral_a(i))for k in range (1,num_GTO+1)] +\\\n",
    "[integ(lambda r: {0}*b_integral_d(i))for k in range (1,num_GTO+1)] + [0]\n",
    "\n",
    "#last colum is constant\n",
    "lambd_const = 1 - integ(lambda r: {0}**2)\n",
    "'''.format(str_chi)\n",
    "\n",
    "exec(main)\n",
    "\n",
    "#Partition into four blocks, up_left, up_right = low_left transpose, up_right\n",
    "#j is row, k is column\n",
    "up_left = [[ integ(lambda r: par_GTO_a(r,j)*par_GTO_a(r,k)) for k in range (1,num_GTO+1)] for j in range (1,num_GTO+1)]\n",
    "\n",
    "up_right = [[ integ(lambda r: par_GTO_a(r,j)*par_GTO_d(r,k)) for k in range (1,num_GTO+1)] + [1] for j in range (1,num_GTO+1)]\n",
    "\n",
    "low_left= [[ integ(lambda r: par_GTO_d(r,j)*par_GTO_a(r,k)) for k in range (1,num_GTO+1)] for j in range (1,num_GTO+1)]\n",
    "            \n",
    "low_right = [[ integ(lambda r: par_GTO_d(r,j)*par_GTO_d(r,k)) for k in range (1,num_GTO+1)] + [1] for j in range (1,num_GTO+1)]\n",
    "\n",
    "#Add same rows\n",
    "list_W = [up_left[i] + up_right[i] for i in range(0, num_GTO)] + [low_left[i] + low_right[i] for i in range(0, num_GTO)] + [last_row]\n",
    "array_W = np.array(list_W)\n",
    "\n",
    "solution = np.linalg.solve(array_W, array_B)\n",
    "P += solution\n",
    "\n",
    "print(P)"
   ]
  },
  {
   "cell_type": "code",
   "execution_count": 349,
   "id": "c32bdd88-1171-4a4e-9320-942fbfd91a97",
   "metadata": {},
   "outputs": [
    {
     "name": "stdout",
     "output_type": "stream",
     "text": [
      "[-1.74695737  3.05387369  0.14999983  0.16740512  0.28978033]\n"
     ]
    }
   ],
   "source": [
    "print(P)"
   ]
  },
  {
   "cell_type": "code",
   "execution_count": null,
   "id": "f9b1deba-ef55-4ee4-b363-f5d062a444e8",
   "metadata": {},
   "outputs": [],
   "source": []
  }
 ],
 "metadata": {
  "kernelspec": {
   "display_name": "Python 3",
   "language": "python",
   "name": "python3"
  },
  "language_info": {
   "codemirror_mode": {
    "name": "ipython",
    "version": 3
   },
   "file_extension": ".py",
   "mimetype": "text/x-python",
   "name": "python",
   "nbconvert_exporter": "python",
   "pygments_lexer": "ipython3",
   "version": "3.9.5"
  }
 },
 "nbformat": 4,
 "nbformat_minor": 5
}
