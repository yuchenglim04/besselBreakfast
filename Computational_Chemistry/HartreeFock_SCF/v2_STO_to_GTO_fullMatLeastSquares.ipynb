{
 "cells": [
  {
   "cell_type": "code",
   "execution_count": 2,
   "id": "446094e2-2dc5-4f2c-a2e9-b2725d5f5afd",
   "metadata": {},
   "outputs": [],
   "source": [
    "import scipy.integrate as integrate\n",
    "import numpy as np\n",
    "pi = np.pi"
   ]
  },
  {
   "cell_type": "markdown",
   "id": "0a44267d-c994-4401-80d2-b2f23160683a",
   "metadata": {},
   "source": [
    "Added lambda, fixed integral, P cannot be all same otherwise singular matrix\n",
    "\n",
    "  \n",
    "Need to work on the other two terms of W."
   ]
  },
  {
   "cell_type": "code",
   "execution_count": 18,
   "id": "f9026cec-ad70-4b17-acdb-c33e700e4683",
   "metadata": {},
   "outputs": [
    {
     "name": "stdin",
     "output_type": "stream",
     "text": [
      "how many GTOs? 2\n"
     ]
    }
   ],
   "source": [
    "num_GTO = int(input('how many GTOs?'))\n",
    "\n",
    "#add GTOs to chi\n",
    "str_chi = 'd[0]*GTO_1(r,a[0])'\n",
    "\n",
    "for i in range(2, num_GTO +1):\n",
    "    str_chi += '+ d[{0}]*GTO_1(r,a[{0}]) '.format(i-1)\n",
    "    \n",
    "#str_chi += '\\n'\n",
    "\n",
    "# initial value of P\n",
    "#P = np.zeros(2*num_GTO + 1) + 0.1\n",
    "P = np.array([i*0.001 for i in range (1,2*num_GTO + 2)])\n",
    "\n",
    "'''\n",
    "#a array\n",
    "a = P[0 : num_GTO]\n",
    "#d list\n",
    "d = P[num_GTO : 2*num_GTO]\n",
    "\n",
    "lambd = P[2*num_GTO]\n",
    "'''\n",
    "GTO_1 = lambda r,a: (2*a/pi)**(3/4)*np.exp(-a*r**2)\n",
    "STO_1 = lambda r: pi**(-1/2)*np.exp(-r)\n",
    "\n",
    "#par_GTO_a = lambda r,i: (GTO_1(r,a[i-1]))\n",
    "#par_GTO_d = lambda r,i: (GTO_1(r,a[i-1]))*(3/(4*a[i-1] - r**2))\n",
    "\n",
    "def par_GTO(r,i):\n",
    "    if i <= num_GTO:\n",
    "        #a_i derivative\n",
    "        return d[i-1]*(3/(4*a[i-1]) - r**2)*GTO_1(r,a[i-1])\n",
    "    if i == 2*num_GTO + 1:\n",
    "        return 0\n",
    "    elif i > num_GTO:\n",
    "        #b_i derivative\n",
    "        return GTO_1(r,a[i-1-num_GTO])\n",
    "\n",
    "def double_par_GTO(r,j,k):\n",
    "    if j==k:\n",
    "        if j <= num_GTO:\n",
    "            return d[j-1]*((3/(4*a[j-1]) - r**2)**2 - 3/(4*a[j-1]**2))*GTO_1(r,a[j-1])\n",
    "        if j > num_GTO:\n",
    "            return 0\n",
    "    if max(j,k) > num_GTO and min (j,k) <= num_GTO:\n",
    "        #a_i and d_i derivative\n",
    "        i = min(j,k)\n",
    "        return (3/(4*a[i-1-num_GTO]) - r**2)*(GTO_1(r,a[i-1-num_GTO]))\n",
    "    else:\n",
    "        return 0\n",
    "\n",
    "def integ(x):\n",
    "    if x == 0:\n",
    "        print('here')\n",
    "        return 0\n",
    "    else:\n",
    "        return integrate.quad(lambda r: x(r)*r**2 ,0, np.inf)[0]"
   ]
  },
  {
   "cell_type": "code",
   "execution_count": 20,
   "id": "9bf2fc4b-6a45-442e-9f6c-5f7a66d0fcf5",
   "metadata": {},
   "outputs": [
    {
     "name": "stderr",
     "output_type": "stream",
     "text": [
      "<ipython-input-18-4f8a737d17af>:23: RuntimeWarning: invalid value encountered in double_scalars\n",
      "  GTO_1 = lambda r,a: (2*a/pi)**(3/4)*np.exp(-a*r**2)\n",
      "<ipython-input-18-4f8a737d17af>:23: RuntimeWarning: overflow encountered in exp\n",
      "  GTO_1 = lambda r,a: (2*a/pi)**(3/4)*np.exp(-a*r**2)\n",
      "<ipython-input-18-4f8a737d17af>:57: IntegrationWarning: The occurrence of roundoff error is detected, which prevents \n",
      "  the requested tolerance from being achieved.  The error may be \n",
      "  underestimated.\n",
      "  return integrate.quad(lambda r: x(r)*r**2 ,0, np.inf)[0]\n"
     ]
    },
    {
     "name": "stdout",
     "output_type": "stream",
     "text": [
      "[nan nan nan nan nan]\n"
     ]
    }
   ],
   "source": [
    "#a array\n",
    "a = P[0 : num_GTO]\n",
    "#d list\n",
    "d = P[num_GTO : 2*num_GTO]\n",
    "\n",
    "lambd = P[2*num_GTO]\n",
    "\n",
    "main = '''\n",
    "#All integral definitions\n",
    "B_integral = lambda i : -integ(lambda r:(STO_1(r) - (1-lambd)*{0})*par_GTO(r,i))\n",
    "\n",
    "lambd_integral = lambda i : -integ(lambda r:{0}*par_GTO(r,i))\n",
    "\n",
    "W_integral = lambda j,k : (1-lambd)*(integ(lambda r: par_GTO(r,j)*par_GTO(r,k))\\\n",
    "+ integ(lambda r: {0}*double_par_GTO(r,j,k)))\\\n",
    "- integ(lambda r: (STO_1(r)*double_par_GTO(r,j,k)))\n",
    "\n",
    "#B\n",
    "list_B = [B_integral(i) for i in range(1,2*num_GTO + 1)] + \\\n",
    "[0.5*(1 - integ(lambda r: ({0}**2 )))]\n",
    "array_B = np.array(list_B)\n",
    "\n",
    "#for our lagrange multiplier\n",
    "last_row = [lambd_integral(k) for k in range (1,2*num_GTO+1)]\\\n",
    "+[0]\n",
    "\n",
    "'''.format(str_chi)\n",
    "\n",
    "exec(main)\n",
    "\n",
    "# list_W contains many lists, which are rows each\n",
    "list_W = [[W_integral(j,k) for k in range (1,2*num_GTO+1)]\\\n",
    "          + [lambd_integral(j)] for j in range (1,2*num_GTO+1)]\\\n",
    "            + [last_row]\n",
    "\n",
    "array_W = np.array(list_W)\n",
    "\n",
    "solution = np.linalg.solve(array_W, array_B)\n",
    "P += solution\n",
    "\n",
    "print(P)"
   ]
  },
  {
   "cell_type": "code",
   "execution_count": 7,
   "id": "82f70f1c-1ac0-4fb1-9c3f-105379d0e5b7",
   "metadata": {},
   "outputs": [
    {
     "name": "stderr",
     "output_type": "stream",
     "text": [
      "<ipython-input-3-3caf6e82ea36>:49: IntegrationWarning: The occurrence of roundoff error is detected, which prevents \n",
      "  the requested tolerance from being achieved.  The error may be \n",
      "  underestimated.\n",
      "  return integrate.quad(lambda r: x(r)*r**2 ,0, np.inf)[0]\n"
     ]
    },
    {
     "data": {
      "text/plain": [
       "nan"
      ]
     },
     "execution_count": 7,
     "metadata": {},
     "output_type": "execute_result"
    }
   ],
   "source": [
    "W_integral(1,2)"
   ]
  },
  {
   "cell_type": "code",
   "execution_count": 9,
   "id": "7ca1a2b4-4669-488c-a63e-f14b3a6cb900",
   "metadata": {},
   "outputs": [
    {
     "data": {
      "text/plain": [
       "0"
      ]
     },
     "execution_count": 9,
     "metadata": {},
     "output_type": "execute_result"
    }
   ],
   "source": [
    "r=1\n",
    "double_par_GTO(r,1,2)"
   ]
  },
  {
   "cell_type": "code",
   "execution_count": null,
   "id": "4a609e2c-1776-481c-925a-2304493e43f5",
   "metadata": {},
   "outputs": [],
   "source": []
  }
 ],
 "metadata": {
  "kernelspec": {
   "display_name": "Python 3",
   "language": "python",
   "name": "python3"
  },
  "language_info": {
   "codemirror_mode": {
    "name": "ipython",
    "version": 3
   },
   "file_extension": ".py",
   "mimetype": "text/x-python",
   "name": "python",
   "nbconvert_exporter": "python",
   "pygments_lexer": "ipython3",
   "version": "3.9.5"
  }
 },
 "nbformat": 4,
 "nbformat_minor": 5
}
