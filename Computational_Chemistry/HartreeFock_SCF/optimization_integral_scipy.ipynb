{
 "cells": [
  {
   "cell_type": "code",
   "execution_count": 4,
   "id": "61803d2a-ef04-42e4-8300-b160e483e79b",
   "metadata": {},
   "outputs": [],
   "source": [
    "from scipy import integrate\n",
    "import numpy as np\n",
    "import timeit as timeit\n",
    "N = 5\n",
    "a = 0.1\n",
    "pi = np.pi\n",
    "llim = -100\n",
    "ulim = 100\n",
    "def f(x, y, z):\n",
    "   return (pi)**(-1/2)*(2*a/pi)**(3/4)*np.exp(-(x**2+y**2+z**2)**(1/2)-a*(x**2+y**2+z**2))\n",
    "\n",
    "#%time integrate.nquad(f, [[llim,ulim],[llim,ulim],[llim,ulim]])"
   ]
  },
  {
   "cell_type": "code",
   "execution_count": 6,
   "id": "60cab29a-7e16-402b-b6e9-21cfc1f79852",
   "metadata": {},
   "outputs": [
    {
     "name": "stdout",
     "output_type": "stream",
     "text": [
      "CPU times: user 1min 19s, sys: 75.7 ms, total: 1min 19s\n",
      "Wall time: 1min 20s\n"
     ]
    },
    {
     "data": {
      "text/plain": [
       "(0.9672969374225819, 1.4896178985153364e-08)"
      ]
     },
     "execution_count": 6,
     "metadata": {},
     "output_type": "execute_result"
    }
   ],
   "source": [
    "a = 0.2\n",
    "%time integrate.nquad(f, [[llim,ulim],[llim,ulim],[llim,ulim]])"
   ]
  },
  {
   "cell_type": "code",
   "execution_count": 7,
   "id": "0f494ef4-cc5d-4948-bab9-0d7e053abb1a",
   "metadata": {},
   "outputs": [
    {
     "name": "stdout",
     "output_type": "stream",
     "text": [
      "CPU times: user 1min 10s, sys: 343 ms, total: 1min 10s\n",
      "Wall time: 1min 11s\n"
     ]
    },
    {
     "data": {
      "text/plain": [
       "(0.9771639990215863, 1.4898845944660127e-08)"
      ]
     },
     "execution_count": 7,
     "metadata": {},
     "output_type": "execute_result"
    }
   ],
   "source": [
    "a = 0.3\n",
    "%time integrate.nquad(f, [[llim,ulim],[llim,ulim],[llim,ulim]])"
   ]
  },
  {
   "cell_type": "code",
   "execution_count": 8,
   "id": "99cb7816-0a32-4ce9-a3fa-5373c2109e33",
   "metadata": {},
   "outputs": [
    {
     "name": "stdout",
     "output_type": "stream",
     "text": [
      "CPU times: user 1min 53s, sys: 148 ms, total: 1min 53s\n",
      "Wall time: 1min 54s\n"
     ]
    },
    {
     "data": {
      "text/plain": [
       "(0.9606298063220201, 1.4874174538630166e-08)"
      ]
     },
     "execution_count": 8,
     "metadata": {},
     "output_type": "execute_result"
    }
   ],
   "source": [
    "a = 0.4\n",
    "%time integrate.nquad(f, [[llim,ulim],[llim,ulim],[llim,ulim]])"
   ]
  },
  {
   "cell_type": "markdown",
   "id": "36ed7555-8f8b-4917-b439-d41eb9bbeb75",
   "metadata": {},
   "source": [
    "Double digit"
   ]
  },
  {
   "cell_type": "code",
   "execution_count": 6,
   "id": "6dce7851-066e-41f9-8a3f-ea79f0372120",
   "metadata": {},
   "outputs": [
    {
     "name": "stdout",
     "output_type": "stream",
     "text": [
      "CPU times: user 1min 10s, sys: 12.4 ms, total: 1min 10s\n",
      "Wall time: 1min 10s\n"
     ]
    },
    {
     "data": {
      "text/plain": [
       "(0.9781997610141968, 1.4877419463102844e-08)"
      ]
     },
     "execution_count": 6,
     "metadata": {},
     "output_type": "execute_result"
    }
   ],
   "source": [
    "a = 0.26\n",
    "%time integrate.nquad(f, [[llim,ulim],[llim,ulim],[llim,ulim]])"
   ]
  },
  {
   "cell_type": "code",
   "execution_count": 7,
   "id": "714ea19c-dd8b-401c-87f7-bd2f774157ef",
   "metadata": {},
   "outputs": [
    {
     "name": "stdout",
     "output_type": "stream",
     "text": [
      "CPU times: user 1min 10s, sys: 46.5 ms, total: 1min 10s\n",
      "Wall time: 1min 11s\n"
     ]
    },
    {
     "data": {
      "text/plain": [
       "(0.9784029118965456, 1.4890889634283727e-08)"
      ]
     },
     "execution_count": 7,
     "metadata": {},
     "output_type": "execute_result"
    }
   ],
   "source": [
    "a = 0.27\n",
    "%time integrate.nquad(f, [[llim,ulim],[llim,ulim],[llim,ulim]])"
   ]
  },
  {
   "cell_type": "code",
   "execution_count": 5,
   "id": "ef2ad998-a36b-420f-83cc-50a232d01089",
   "metadata": {},
   "outputs": [
    {
     "name": "stdout",
     "output_type": "stream",
     "text": [
      "CPU times: user 1min 14s, sys: 427 ms, total: 1min 14s\n",
      "Wall time: 1min 16s\n"
     ]
    },
    {
     "data": {
      "text/plain": [
       "(0.9782749071568643, 1.4898807082332272e-08)"
      ]
     },
     "execution_count": 5,
     "metadata": {},
     "output_type": "execute_result"
    }
   ],
   "source": [
    "a = 0.28\n",
    "%time integrate.nquad(f, [[llim,ulim],[llim,ulim],[llim,ulim]])"
   ]
  },
  {
   "cell_type": "code",
   "execution_count": null,
   "id": "853c2d30-691a-47c7-ad0b-286be2ef10c1",
   "metadata": {},
   "outputs": [],
   "source": []
  }
 ],
 "metadata": {
  "kernelspec": {
   "display_name": "Python 3 (ipykernel)",
   "language": "python",
   "name": "python3"
  },
  "language_info": {
   "codemirror_mode": {
    "name": "ipython",
    "version": 3
   },
   "file_extension": ".py",
   "mimetype": "text/x-python",
   "name": "python",
   "nbconvert_exporter": "python",
   "pygments_lexer": "ipython3",
   "version": "3.10.6"
  }
 },
 "nbformat": 4,
 "nbformat_minor": 5
}
