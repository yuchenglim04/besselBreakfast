{
 "cells": [
  {
   "cell_type": "code",
   "execution_count": 152,
   "id": "446094e2-2dc5-4f2c-a2e9-b2725d5f5afd",
   "metadata": {},
   "outputs": [],
   "source": [
    "import scipy.integrate as integrate #nsubmodule\n",
    "import numpy as np\n",
    "import matplotlib.pyplot as plt\n",
    "pi = np.pi"
   ]
  },
  {
   "cell_type": "markdown",
   "id": "0a44267d-c994-4401-80d2-b2f23160683a",
   "metadata": {},
   "source": [
    "Added lambda, fixed integral, P cannot be all same otherwise singular matrix\n",
    "\n",
    "also, nan will occur when a value negative."
   ]
  },
  {
   "cell_type": "code",
   "execution_count": 135,
   "id": "f9026cec-ad70-4b17-acdb-c33e700e4683",
   "metadata": {},
   "outputs": [
    {
     "name": "stdin",
     "output_type": "stream",
     "text": [
      "how many GTOs? 2\n"
     ]
    },
    {
     "data": {
      "text/plain": [
       "'\\ndef integ(x):\\n    return integrate.quad(lambda r: x(r)*r**2 ,0, np.inf)[0]\\n'"
      ]
     },
     "execution_count": 135,
     "metadata": {},
     "output_type": "execute_result"
    }
   ],
   "source": [
    "num_GTO = int(input('how many GTOs?'))\n",
    "\n",
    "#to set integral to 0 if toggle0 == 0\n",
    "toggle0 = 1\n",
    "\n",
    "# initial value of P\n",
    "#P = np.zeros(2*num_GTO + 1) + 0.1\n",
    "P = np.array([i*0.1 for i in range (1,2*num_GTO + 2)])\n",
    "\n",
    "#add GTOs to chi\n",
    "str_chi = 'd[0]*GTO_1(r,a[0])'\n",
    "\n",
    "for i in range(2, num_GTO +1):\n",
    "    str_chi += '+ d[{0}]*GTO_1(r,a[{0}]) '.format(i-1)\n",
    "    \n",
    "#str_chi += '\\n'\n",
    "\n",
    "GTO_1 = lambda r,a: (2*a/pi)**(3/4)*np.exp(-a*r**2)\n",
    "STO_1 = lambda r: pi**(-1/2)*np.exp(-r)\n",
    "\n",
    "#par_GTO_a = lambda r,i: (GTO_1(r,a[i-1]))\n",
    "#par_GTO_d = lambda r,i: (GTO_1(r,a[i-1]))*(3/(4*a[i-1] - r**2))\n",
    "\n",
    "def par_GTO(r,i):\n",
    "    global toggle0\n",
    "    if i <= num_GTO:\n",
    "        #a_i derivative\n",
    "        return d[i-1]*(3/(4*a[i-1]) - r**2)*GTO_1(r,a[i-1])\n",
    "    elif i > num_GTO:\n",
    "        #b_i derivative\n",
    "        return GTO_1(r,a[i-1-num_GTO])\n",
    "    '''\n",
    "    elif i == 2*num_GTO + 1:\n",
    "        toggle0 = 0\n",
    "        return 0\n",
    "    '''\n",
    "\n",
    "def double_par_GTO(r,j,k):\n",
    "    global toggle0\n",
    "    if j==k:\n",
    "        if j <= num_GTO:\n",
    "            return d[j-1]*((3/(4*a[j-1]) - r**2)**2 - 3/(4*a[j-1]**2))*GTO_1(r,a[j-1])\n",
    "        else:\n",
    "            #print('here1', j, k)\n",
    "            toggle0 = 0\n",
    "            return 0\n",
    "    elif max(j,k) > num_GTO and min(j,k) <= num_GTO:\n",
    "        #a_i and d_i derivative\n",
    "        i = min(j,k)\n",
    "        return (3/(4*a[i-1]) - r**2)*(GTO_1(r,a[i-1]))\n",
    "    else:\n",
    "        #print('here2', j, k)\n",
    "        toggle0 = 0\n",
    "        return 0\n",
    "\n",
    "def integ(x):\n",
    "    global toggle0\n",
    "    '''\n",
    "    if x(1) == 0 :\n",
    "        #check if x is zero, or should be zero, avoid integrating round off error \n",
    "        print('here')\n",
    "        \n",
    "        return 0\n",
    "    '''\n",
    "    x(1) # evaluate anonymous function\n",
    "    if toggle0 == 0 :\n",
    "        #check if x is zero, or should be zero, avoid integrating round off error \n",
    "        #print('here')\n",
    "        toggle0 = 1\n",
    "        return 0\n",
    "    else:\n",
    "        #print(toggle0)\n",
    "        #return integrate.quad(lambda r: x(r)*r**2 ,0, np.inf)[0]\n",
    "        return integrate.quad(lambda r: x(r)*4*pi*r**2 ,0, np.inf)[0]\n",
    "'''\n",
    "def integ(x):\n",
    "    return integrate.quad(lambda r: x(r)*r**2 ,0, np.inf)[0]\n",
    "'''"
   ]
  },
  {
   "cell_type": "code",
   "execution_count": 115,
   "id": "9bf2fc4b-6a45-442e-9f6c-5f7a66d0fcf5",
   "metadata": {},
   "outputs": [
    {
     "name": "stdout",
     "output_type": "stream",
     "text": [
      "[ -0.0633623    0.23022926  13.40535664 -12.82325082  -1.70431795]\n"
     ]
    }
   ],
   "source": [
    "#a array\n",
    "a = P[0 : num_GTO]\n",
    "#d list\n",
    "d = P[num_GTO : 2*num_GTO]\n",
    "\n",
    "lambd = P[2*num_GTO]\n",
    "\n",
    "main = '''\n",
    "#All integral definitions\n",
    "B_integral = lambda i : -integ(lambda r:(STO_1(r) - (1-lambd)*{0})*par_GTO(r,i))\n",
    "\n",
    "lambd_integral = lambda i : -integ(lambda r:{0}*par_GTO(r,i))\n",
    "\n",
    "W_integral = lambda j,k : (1-lambd)*(integ(lambda r: par_GTO(r,j)*par_GTO(r,k))\\\n",
    "+ integ(lambda r: {0}*double_par_GTO(r,j,k)))\\\n",
    "- integ(lambda r: (STO_1(r)*double_par_GTO(r,j,k)))\n",
    "\n",
    "#B\n",
    "list_B = [B_integral(i) for i in range(1,2*num_GTO + 1)] + \\\n",
    "[0.5*(1 - integ(lambda r: ({0}**2 )))]\n",
    "array_B = np.array(list_B)\n",
    "\n",
    "#for our lagrange multiplier\n",
    "last_row = [lambd_integral(k) for k in range (1,2*num_GTO+1)]\\\n",
    "+[0]\n",
    "\n",
    "'''.format(str_chi)\n",
    "\n",
    "exec(main)\n",
    "\n",
    "# list_W contains many lists, which are rows each\n",
    "list_W = [[W_integral(j,k) for k in range (1,2*num_GTO+1)]\\\n",
    "          + [lambd_integral(j)] for j in range (1,2*num_GTO+1)]\\\n",
    "            + [last_row]\n",
    "\n",
    "array_W = np.array(list_W)\n",
    "\n",
    "solution = np.linalg.solve(array_W, array_B)\n",
    "P += solution\n",
    "\n",
    "print(P)"
   ]
  },
  {
   "cell_type": "code",
   "execution_count": 7,
   "id": "82f70f1c-1ac0-4fb1-9c3f-105379d0e5b7",
   "metadata": {},
   "outputs": [
    {
     "name": "stderr",
     "output_type": "stream",
     "text": [
      "<ipython-input-3-3caf6e82ea36>:49: IntegrationWarning: The occurrence of roundoff error is detected, which prevents \n",
      "  the requested tolerance from being achieved.  The error may be \n",
      "  underestimated.\n",
      "  return integrate.quad(lambda r: x(r)*r**2 ,0, np.inf)[0]\n"
     ]
    },
    {
     "data": {
      "text/plain": [
       "nan"
      ]
     },
     "execution_count": 7,
     "metadata": {},
     "output_type": "execute_result"
    }
   ],
   "source": [
    "W_integral(1,2)"
   ]
  },
  {
   "cell_type": "code",
   "execution_count": 9,
   "id": "7ca1a2b4-4669-488c-a63e-f14b3a6cb900",
   "metadata": {},
   "outputs": [
    {
     "data": {
      "text/plain": [
       "0"
      ]
     },
     "execution_count": 9,
     "metadata": {},
     "output_type": "execute_result"
    }
   ],
   "source": [
    "r=1\n",
    "double_par_GTO(r,1,2)"
   ]
  },
  {
   "cell_type": "code",
   "execution_count": 36,
   "id": "4a609e2c-1776-481c-925a-2304493e43f5",
   "metadata": {},
   "outputs": [],
   "source": [
    "after = list_W"
   ]
  },
  {
   "cell_type": "code",
   "execution_count": 32,
   "id": "2d7976ca-d605-4481-b845-b882cc087b28",
   "metadata": {},
   "outputs": [],
   "source": [
    "before = list_W"
   ]
  },
  {
   "cell_type": "code",
   "execution_count": 37,
   "id": "344c743c-14ad-4cdb-a274-1fdf89071ca3",
   "metadata": {},
   "outputs": [
    {
     "data": {
      "text/plain": [
       "True"
      ]
     },
     "execution_count": 37,
     "metadata": {},
     "output_type": "execute_result"
    }
   ],
   "source": [
    "after == before"
   ]
  },
  {
   "cell_type": "code",
   "execution_count": 68,
   "id": "0227b3ce-c81c-4b03-888a-b20dd264469f",
   "metadata": {},
   "outputs": [
    {
     "data": {
      "text/plain": [
       "[[2.728045134181815,\n",
       "  0.11778830987380788,\n",
       "  -3.058861837273679,\n",
       "  -3.004498001947306,\n",
       "  0.16869774820068073],\n",
       " [0.11778830987380788,\n",
       "  1.808882170532462,\n",
       "  -2.56818082399854,\n",
       "  -2.5319382671142914,\n",
       "  0.16847920011896667],\n",
       " [-3.058861837273679,\n",
       "  -2.56818082399854,\n",
       "  0.07917958419292034,\n",
       "  0.07248511376849724,\n",
       "  0.1687705975612521],\n",
       " [-3.004498001947306,\n",
       "  -2.5319382671142914,\n",
       "  0.07248511376849724,\n",
       "  0.07917958418821759,\n",
       "  0.1687975100051505],\n",
       " [-0.16869774820068073,\n",
       "  -0.16847920011896667,\n",
       "  -0.1687705975612521,\n",
       "  -0.1687975100051505,\n",
       "  0]]"
      ]
     },
     "execution_count": 68,
     "metadata": {},
     "output_type": "execute_result"
    }
   ],
   "source": [
    "list_W"
   ]
  },
  {
   "cell_type": "code",
   "execution_count": 101,
   "id": "feb7d1e0-e9d6-461e-957b-679cadccc32c",
   "metadata": {},
   "outputs": [
    {
     "name": "stdout",
     "output_type": "stream",
     "text": [
      "[-0.06314677 -0.04700836 -0.69396678  0.54959919 -1.78393922]\n"
     ]
    }
   ],
   "source": [
    "#a array\n",
    "a = P[0 : num_GTO]\n",
    "#d list\n",
    "d = P[num_GTO : 2*num_GTO]\n",
    "\n",
    "lambd = P[2*num_GTO]\n",
    "\n",
    "main = '''\n",
    "#All integral definitions\n",
    "B_integral = lambda i : integ(lambda r:(STO_1(r) - (1+lambd)*{0})*par_GTO(r,i))\n",
    "\n",
    "lambd_integral = lambda i : integ(lambda r:{0}*par_GTO(r,i))\n",
    "\n",
    "W_integral = lambda j,k : (1-lambd)*(integ(lambda r: par_GTO(r,j)*par_GTO(r,k))\\\n",
    "+ integ(lambda r: {0}*double_par_GTO(r,j,k)))\\\n",
    "- integ(lambda r: (STO_1(r)*double_par_GTO(r,j,k)))\n",
    "\n",
    "#B\n",
    "list_B = [B_integral(i) for i in range(1,2*num_GTO + 1)] + \\\n",
    "[0.5*(1 - integ(lambda r: ({0}**2 )))]\n",
    "array_B = np.array(list_B)\n",
    "\n",
    "#for our lagrange multiplier\n",
    "last_row = [lambd_integral(k) for k in range (1,2*num_GTO+1)]\\\n",
    "+[0]\n",
    "\n",
    "'''.format(str_chi)\n",
    "\n",
    "exec(main)\n",
    "\n",
    "# list_W contains many lists, which are rows each\n",
    "list_W = [[W_integral(j,k) for k in range (1,2*num_GTO+1)]\\\n",
    "          + [lambd_integral(j)] for j in range (1,2*num_GTO+1)]\\\n",
    "            + [last_row]\n",
    "\n",
    "array_W = np.array(list_W)\n",
    "\n",
    "solution = np.linalg.solve(array_W, array_B)\n",
    "P += solution\n",
    "\n",
    "print(P)"
   ]
  },
  {
   "cell_type": "code",
   "execution_count": 104,
   "id": "f14c4a7d-d53e-4e71-8d1b-4a8dca30b7e0",
   "metadata": {},
   "outputs": [
    {
     "data": {
      "text/plain": [
       "array([ 0.69995222, -0.54158501])"
      ]
     },
     "execution_count": 104,
     "metadata": {},
     "output_type": "execute_result"
    }
   ],
   "source": [
    "d"
   ]
  },
  {
   "cell_type": "code",
   "execution_count": 105,
   "id": "f1eae781-1a55-41a3-9f62-87d6116c2968",
   "metadata": {},
   "outputs": [
    {
     "data": {
      "text/plain": [
       "0.005"
      ]
     },
     "execution_count": 105,
     "metadata": {},
     "output_type": "execute_result"
    }
   ],
   "source": [
    "lambd"
   ]
  },
  {
   "cell_type": "code",
   "execution_count": 106,
   "id": "d1013256-2a55-485d-b797-1c2eb0250d8a",
   "metadata": {},
   "outputs": [
    {
     "data": {
      "text/plain": [
       "array([ 0.06414656,  0.04900894,  0.69695222, -0.54558501,  1.78893086])"
      ]
     },
     "execution_count": 106,
     "metadata": {},
     "output_type": "execute_result"
    }
   ],
   "source": [
    "solution"
   ]
  },
  {
   "cell_type": "code",
   "execution_count": 107,
   "id": "fe476ab1-fb1c-4f88-8f93-636227622601",
   "metadata": {},
   "outputs": [
    {
     "data": {
      "text/plain": [
       "array([ 0.06514656,  0.05100894,  0.69995222, -0.54158501,  1.79393086])"
      ]
     },
     "execution_count": 107,
     "metadata": {},
     "output_type": "execute_result"
    }
   ],
   "source": [
    "P"
   ]
  },
  {
   "cell_type": "code",
   "execution_count": 136,
   "id": "d425ed9e-9d64-42fe-9f51-77a7c1b780c4",
   "metadata": {},
   "outputs": [
    {
     "name": "stdout",
     "output_type": "stream",
     "text": [
      "[ 0.07426435  0.11838255  2.10815393 -0.86770953  0.63976219]\n"
     ]
    }
   ],
   "source": [
    "#a array\n",
    "a = P[0 : num_GTO]\n",
    "#d list\n",
    "d = P[num_GTO : 2*num_GTO]\n",
    "\n",
    "lambd = P[2*num_GTO]\n",
    "\n",
    "main = '''\n",
    "#All integral definitions\n",
    "B_integral = lambda i : integ(lambda r:(STO_1(r) - 1*{0})*par_GTO(r,i))\n",
    "\n",
    "lambd_integral = lambda i : integ(lambda r:{0}*par_GTO(r,i))\n",
    "\n",
    "W_integral = lambda j,k : (1-lambd)*(integ(lambda r: par_GTO(r,j)*par_GTO(r,k))\\\n",
    "+ integ(lambda r: {0}*double_par_GTO(r,j,k)))\\\n",
    "- integ(lambda r: (STO_1(r)*double_par_GTO(r,j,k)))\n",
    "\n",
    "#B\n",
    "list_B = [B_integral(i) for i in range(1,2*num_GTO + 1)] + \\\n",
    "[0.5*(1 - integ(lambda r: ({0}**2 )))]\n",
    "array_B = np.array(list_B)\n",
    "\n",
    "#for our lagrange multiplier\n",
    "last_row = [lambd_integral(k) for k in range (1,2*num_GTO+1)]\\\n",
    "+[0]\n",
    "\n",
    "'''.format(str_chi)\n",
    "\n",
    "exec(main)\n",
    "\n",
    "# list_W contains many lists, which are rows each\n",
    "list_W = [[W_integral(j,k) for k in range (1,2*num_GTO+1)]\\\n",
    "          + [-lambd_integral(j)] for j in range (1,2*num_GTO+1)]\\\n",
    "            + [last_row]\n",
    "\n",
    "array_W = np.array(list_W)\n",
    "\n",
    "solution = np.linalg.solve(array_W, array_B)\n",
    "P -= solution\n",
    "\n",
    "print(P)"
   ]
  },
  {
   "cell_type": "code",
   "execution_count": 131,
   "id": "bd6027cd-0e08-4623-a997-3673b1f5c12a",
   "metadata": {},
   "outputs": [
    {
     "data": {
      "text/plain": [
       "array([[ 28.67123148,  -9.59294493, -17.36156828, -19.31734104,\n",
       "         33.44391056],\n",
       "       [ -9.59294493, -13.30204244, -19.06721512, -18.10162678,\n",
       "         28.34567101],\n",
       "       [-17.36156828, -19.06721512,   0.63976219,   0.56812712,\n",
       "         26.86469725],\n",
       "       [-19.31734104, -18.10162678,   0.56812712,   0.63976219,\n",
       "         26.67796148],\n",
       "       [-33.44391056, -28.34567101, -26.86469725, -26.67796148,\n",
       "          0.        ]])"
      ]
     },
     "execution_count": 131,
     "metadata": {},
     "output_type": "execute_result"
    }
   ],
   "source": [
    "array_W"
   ]
  },
  {
   "cell_type": "code",
   "execution_count": 134,
   "id": "96b18f25-8c1e-466e-96df-6ee6ec6c0034",
   "metadata": {},
   "outputs": [
    {
     "data": {
      "text/plain": [
       "array([ 0.92000032,  0.28336512,  0.9303916 ,  1.09266132, -3.04754297])"
      ]
     },
     "execution_count": 134,
     "metadata": {},
     "output_type": "execute_result"
    }
   ],
   "source": [
    "array_B"
   ]
  },
  {
   "cell_type": "markdown",
   "id": "755cdd01-a934-4ae1-a2f7-0c22145bd986",
   "metadata": {},
   "source": [
    "Understanding of the method"
   ]
  },
  {
   "cell_type": "code",
   "execution_count": 59,
   "id": "ccfa9f3b-f567-4305-9529-2c6c538cd254",
   "metadata": {},
   "outputs": [
    {
     "name": "stdin",
     "output_type": "stream",
     "text": [
      "how many GTOs? 2\n"
     ]
    },
    {
     "data": {
      "text/plain": [
       "'\\ndef integ(x):\\n    return integrate.quad(lambda r: x(r)*r**2 ,0, np.inf)[0]\\n'"
      ]
     },
     "execution_count": 59,
     "metadata": {},
     "output_type": "execute_result"
    }
   ],
   "source": [
    "num_GTO = int(input('how many GTOs?'))\n",
    "\n",
    "#to set integral to 0 if toggle0 == 0\n",
    "toggle0 = 1\n",
    "\n",
    "# initial value of P\n",
    "#P = np.zeros(2*num_GTO + 1) + 0.1\n",
    "#P = np.array([i*0.1 for i in range (1,2*num_GTO + 2)])\n",
    "\n",
    "P = np.array([0.151623,0.851819,0.678914,0.430129,0.1])\n",
    "\n",
    "#add GTOs to chi\n",
    "str_chi = 'd[0]*GTO_1(r,a[0])'\n",
    "\n",
    "for i in range(2, num_GTO +1):\n",
    "    str_chi += '+ d[{0}]*GTO_1(r,a[{0}]) '.format(i-1)\n",
    "    \n",
    "#str_chi += '\\n'\n",
    "\n",
    "GTO_1 = lambda r,a: (2*a/pi)**(3/4)*np.exp(-a*r**2)\n",
    "STO_1 = lambda r: pi**(-1/2)*np.exp(-r)\n",
    "\n",
    "#par_GTO_a = lambda r,i: (GTO_1(r,a[i-1]))\n",
    "#par_GTO_d = lambda r,i: (GTO_1(r,a[i-1]))*(3/(4*a[i-1] - r**2))\n",
    "\n",
    "def par_GTO(r,i):\n",
    "    global toggle0\n",
    "    if i <= num_GTO:\n",
    "        #a_i derivative\n",
    "        return d[i-1]*(3/(4*a[i-1]) - r**2)*GTO_1(r,a[i-1])\n",
    "    elif i > num_GTO:\n",
    "        #b_i derivative\n",
    "        return GTO_1(r,a[i-1-num_GTO])\n",
    "    '''\n",
    "    elif i == 2*num_GTO + 1:\n",
    "        toggle0 = 0\n",
    "        return 0\n",
    "    '''\n",
    "\n",
    "def double_par_GTO(r,j,k):\n",
    "    global toggle0\n",
    "    if j==k:\n",
    "        if j <= num_GTO:\n",
    "            return d[j-1]*((3/(4*a[j-1]) - r**2)**2 - 3/(4*a[j-1]**2))*GTO_1(r,a[j-1])\n",
    "        else:\n",
    "            #print('here1', j, k)\n",
    "            toggle0 = 0\n",
    "            return 0\n",
    "    elif max(j,k) > num_GTO and min(j,k) <= num_GTO:\n",
    "        #a_i and d_i derivative\n",
    "        i = min(j,k)\n",
    "        return (3/(4*a[i-1]) - r**2)*(GTO_1(r,a[i-1]))\n",
    "    else:\n",
    "        #print('here2', j, k)\n",
    "        toggle0 = 0\n",
    "        return 0\n",
    "\n",
    "def integ(x):\n",
    "    global toggle0\n",
    "    '''\n",
    "    if x(1) == 0 :\n",
    "        #check if x is zero, or should be zero, avoid integrating round off error \n",
    "        print('here')\n",
    "        \n",
    "        return 0\n",
    "    '''\n",
    "    x(1) # evaluate anonymous function\n",
    "    if toggle0 == 0 :\n",
    "        #check if x is zero, or should be zero, avoid integrating round off error \n",
    "        #print('here')\n",
    "        toggle0 = 1\n",
    "        return 0\n",
    "    else:\n",
    "        #print(toggle0)\n",
    "        #return integrate.quad(lambda r: x(r)*r**2 ,0, np.inf)[0]\n",
    "        return integrate.quad(lambda r: x(r)*4*pi*r**2 ,0, np.inf)[0]\n",
    "'''\n",
    "def integ(x):\n",
    "    return integrate.quad(lambda r: x(r)*r**2 ,0, np.inf)[0]\n",
    "'''"
   ]
  },
  {
   "cell_type": "code",
   "execution_count": 60,
   "id": "e65fbcda-1b42-4075-8f27-868c4efac2c5",
   "metadata": {},
   "outputs": [
    {
     "name": "stdout",
     "output_type": "stream",
     "text": [
      "[0.18382149 0.85472307 0.24585295 0.82132251 0.13071299]\n"
     ]
    }
   ],
   "source": [
    "#a array\n",
    "a = P[0 : num_GTO]\n",
    "#d list\n",
    "d = P[num_GTO : 2*num_GTO]\n",
    "\n",
    "lambd = P[2*num_GTO]\n",
    "\n",
    "main = '''\n",
    "#All integral definitions\n",
    "B_integral = lambda i : integ(lambda r:(STO_1(r) - (1)*{0})*par_GTO(r,i))\n",
    "\n",
    "lambd_integral = lambda i : integ(lambda r:{0}*par_GTO(r,i))\n",
    "\n",
    "W_integral = lambda j,k : (1-lambd)*(integ(lambda r: par_GTO(r,j)*par_GTO(r,k))\\\n",
    "+ integ(lambda r: {0}*double_par_GTO(r,j,k)))\\\n",
    "- integ(lambda r: (STO_1(r)*double_par_GTO(r,j,k)))\n",
    "\n",
    "#B\n",
    "list_B = [B_integral(i) for i in range(1,2*num_GTO + 1)] + \\\n",
    "[0.5*(11.518706896642891 - integ(lambda r: ({0}**2 )))]\n",
    "array_B = np.array(list_B)\n",
    "\n",
    "#for our lagrange multiplier\n",
    "last_row = [lambd_integral(k) for k in range (1,2*num_GTO+1)]\\\n",
    "+[0]\n",
    "\n",
    "'''.format(str_chi)\n",
    "\n",
    "exec(main)\n",
    "\n",
    "# list_W contains many lists, which are rows each\n",
    "list_W = [[W_integral(j,k) for k in range (1,2*num_GTO+1)]\\\n",
    "          + [lambd_integral(j)] for j in range (1,2*num_GTO+1)]\\\n",
    "            + [last_row]\n",
    "\n",
    "array_W = np.array(list_W)\n",
    "\n",
    "solution = np.linalg.solve(array_W, array_B)\n",
    "P += solution\n",
    "\n",
    "print(P)"
   ]
  },
  {
   "cell_type": "code",
   "execution_count": 61,
   "id": "18a7874a-e811-4276-a3dd-9f8c47fdcca4",
   "metadata": {},
   "outputs": [
    {
     "data": {
      "text/plain": [
       "array([1.22113899e+00, 1.71897505e-04, 5.20032685e-01, 8.58927478e-01,\n",
       "       0.00000000e+00])"
      ]
     },
     "execution_count": 61,
     "metadata": {},
     "output_type": "execute_result"
    }
   ],
   "source": [
    "array_B"
   ]
  },
  {
   "cell_type": "code",
   "execution_count": 25,
   "id": "a254428f-3359-4f23-8dcb-c989fc59d5a9",
   "metadata": {},
   "outputs": [
    {
     "data": {
      "text/plain": [
       "array([ 0.03501483,  0.00370264, -0.39121208,  0.34633056,  0.0323688 ])"
      ]
     },
     "execution_count": 25,
     "metadata": {},
     "output_type": "execute_result"
    }
   ],
   "source": [
    "solution"
   ]
  },
  {
   "cell_type": "code",
   "execution_count": 37,
   "id": "c29e5eef-9cc8-456a-b0dd-7a72e95d4d66",
   "metadata": {},
   "outputs": [
    {
     "name": "stdout",
     "output_type": "stream",
     "text": [
      "3.2927326758078674\n"
     ]
    }
   ],
   "source": []
  },
  {
   "cell_type": "markdown",
   "id": "4e9686ce-5767-4c13-99c8-e42eaa214bfe",
   "metadata": {},
   "source": [
    "Wait, isn't it normalized?"
   ]
  },
  {
   "cell_type": "code",
   "execution_count": 54,
   "id": "5661f05c-6860-4812-a09c-94b3eaeb6702",
   "metadata": {},
   "outputs": [
    {
     "data": {
      "text/plain": [
       "array([nan, nan, nan, nan, nan])"
      ]
     },
     "execution_count": 54,
     "metadata": {},
     "output_type": "execute_result"
    }
   ],
   "source": [
    "P"
   ]
  },
  {
   "cell_type": "code",
   "execution_count": 82,
   "id": "9563fbb4-c03e-4b0e-99c2-1cb3f77db0a7",
   "metadata": {},
   "outputs": [
    {
     "name": "stdout",
     "output_type": "stream",
     "text": [
      "1.0000012960111613\n"
     ]
    }
   ],
   "source": [
    "P = np.array([0.151623,0.851819,0.678914,0.430129,0.1])\n",
    "\n",
    "#a array\n",
    "a = P[0 : num_GTO]\n",
    "#d list\n",
    "d = P[num_GTO : 2*num_GTO]\n",
    "\n",
    "lambd = P[2*num_GTO]\n",
    "\n",
    "main = '''\n",
    "print(integ(lambda r: ({0})**2))'''.format(str_chi)\n",
    "\n",
    "exec(main)"
   ]
  },
  {
   "cell_type": "code",
   "execution_count": 71,
   "id": "782a1d3a-9f1d-4102-a8aa-fd1434225697",
   "metadata": {},
   "outputs": [
    {
     "data": {
      "text/plain": [
       "array([0.678914, 0.430129])"
      ]
     },
     "execution_count": 71,
     "metadata": {},
     "output_type": "execute_result"
    }
   ],
   "source": [
    "d"
   ]
  },
  {
   "cell_type": "code",
   "execution_count": 62,
   "id": "eb77306a-fc9b-480b-8a9e-d198e7d89ccd",
   "metadata": {},
   "outputs": [
    {
     "data": {
      "text/plain": [
       "'d[0]*GTO_1(r,a[0])+ d[1]*GTO_1(r,a[1]) '"
      ]
     },
     "execution_count": 62,
     "metadata": {},
     "output_type": "execute_result"
    }
   ],
   "source": [
    "str_chi"
   ]
  },
  {
   "cell_type": "code",
   "execution_count": 78,
   "id": "500bd6a0-93c9-41cc-a854-879c63322bbe",
   "metadata": {},
   "outputs": [
    {
     "name": "stdout",
     "output_type": "stream",
     "text": [
      "0.15161912843393843\n"
     ]
    }
   ],
   "source": [
    "main = '''\n",
    "chi_square = lambda r: ({0})**2\n",
    "print(chi_square(0))'''.format(str_chi)\n",
    "\n",
    "exec(main)"
   ]
  },
  {
   "cell_type": "code",
   "execution_count": null,
   "id": "e223546f-d916-4517-89ba-4a96f9b26548",
   "metadata": {},
   "outputs": [],
   "source": [
    "P = np.array([0.151623,0.851819,0.678914,0.430129,0.1])"
   ]
  },
  {
   "cell_type": "code",
   "execution_count": 80,
   "id": "aa657ca6-2c6e-403f-b0d7-c250c6fdb7ca",
   "metadata": {},
   "outputs": [
    {
     "data": {
      "text/plain": [
       "(1.0000032538224302, 7.699775272251954e-09)"
      ]
     },
     "execution_count": 80,
     "metadata": {},
     "output_type": "execute_result"
    }
   ],
   "source": [
    "integrate.quad(lambda r: (0.678914*GTO_1(r,0.151623) + 0.430129*GTO_1(r,0.85181))**2*4*pi*r**2,0,np.inf)"
   ]
  },
  {
   "cell_type": "code",
   "execution_count": 79,
   "id": "66699947-a137-4ce9-9322-e90c9031b589",
   "metadata": {},
   "outputs": [
    {
     "name": "stdout",
     "output_type": "stream",
     "text": [
      "0.15161912843393843\n"
     ]
    }
   ],
   "source": [
    "print(chi_square(0))"
   ]
  },
  {
   "cell_type": "code",
   "execution_count": null,
   "id": "85832ee4-6c2a-4754-b295-96c32e939066",
   "metadata": {},
   "outputs": [],
   "source": [
    "chi_square = lambda r: 0.678914*GTO_1(r,0.151623) + 0.430129*GTO_1(r,0.85181)"
   ]
  },
  {
   "cell_type": "markdown",
   "id": "06fb410e-34e9-4353-9ba4-b14fc9e42a75",
   "metadata": {},
   "source": [
    "# V2"
   ]
  },
  {
   "cell_type": "markdown",
   "id": "f38c73a7-c7f8-49f0-9b31-6de64469b940",
   "metadata": {},
   "source": [
    "({0}), not {0}!\n",
    "\n",
    "Very sensitive to initial guess, might not converge if too far, given we used a first order approximation."
   ]
  },
  {
   "cell_type": "code",
   "execution_count": 267,
   "id": "e706fcd2-61b6-4a4c-a609-7efb14176997",
   "metadata": {},
   "outputs": [
    {
     "name": "stdin",
     "output_type": "stream",
     "text": [
      "how many GTOs? 3\n"
     ]
    }
   ],
   "source": [
    "num_GTO = int(input('how many GTOs?'))\n",
    "\n",
    "#to set integral to 0 if toggle0 == 0\n",
    "toggle0 = 1\n",
    "\n",
    "# initial value of P (guess)\n",
    "#P = np.zeros(2*num_GTO + 1) + 0.1\n",
    "#P = np.array([i*0.1 for i in range (1,2*num_GTO + 2)])\n",
    "#P = np.array([i*0.5 for i in range (1,2*num_GTO + 2)])\n",
    "\n",
    "P = [0.1, 0.4, 2.22, 0.44, 0.53, 0.15, 0.3]\n",
    "\n",
    "# P = np.array([0.151623,0.851819,0.678914,0.430129,0.1])\n",
    "\n",
    "#add GTOs to chi\n",
    "str_chi = 'd[0]*GTO_1(r,a[0])'\n",
    "\n",
    "for i in range(2, num_GTO +1):\n",
    "    str_chi += '+ d[{0}]*GTO_1(r,a[{0}]) '.format(i-1)\n",
    "    \n",
    "#str_chi += '\\n'\n",
    "\n",
    "GTO_1 = lambda r,a: (2*a/pi)**(3/4)*np.exp(-a*r**2)\n",
    "STO_1 = lambda r: pi**(-1/2)*np.exp(-r)\n",
    "\n",
    "#par_GTO_a = lambda r,i: (GTO_1(r,a[i-1]))\n",
    "#par_GTO_d = lambda r,i: (GTO_1(r,a[i-1]))*(3/(4*a[i-1] - r**2))\n",
    "\n",
    "def par_GTO(r,i):\n",
    "    global toggle0\n",
    "    if i <= num_GTO:\n",
    "        #a_i derivative\n",
    "        return d[i-1]*(3/(4*a[i-1]) - r**2)*GTO_1(r,a[i-1])\n",
    "    elif i > num_GTO:\n",
    "        #b_i derivative\n",
    "        return GTO_1(r,a[i-1-num_GTO])\n",
    "    '''\n",
    "    elif i == 2*num_GTO + 1:\n",
    "        toggle0 = 0\n",
    "        return 0\n",
    "    '''\n",
    "\n",
    "def double_par_GTO(r,j,k):\n",
    "    global toggle0\n",
    "    if j==k:\n",
    "        if j <= num_GTO:\n",
    "            return d[j-1]*((3/(4*a[j-1]) - r**2)**2 - 3/(4*a[j-1]**2))*GTO_1(r,a[j-1])\n",
    "        else:\n",
    "            #print('here1', j, k)\n",
    "            toggle0 = 0\n",
    "            return 0\n",
    "    elif max(j,k) > num_GTO and min(j,k) <= num_GTO:\n",
    "        #a_i and d_i derivative\n",
    "        i = min(j,k)\n",
    "        return (3/(4*a[i-1]) - r**2)*(GTO_1(r,a[i-1]))\n",
    "    else:\n",
    "        #print('here2', j, k)\n",
    "        toggle0 = 0\n",
    "        return 0\n",
    "\n",
    "def integ(x):\n",
    "    global toggle0\n",
    "    '''\n",
    "    if x(1) == 0 :\n",
    "        #check if x is zero, or should be zero, avoid integrating round off error \n",
    "        print('here')\n",
    "        \n",
    "        return 0\n",
    "    '''\n",
    "    x(1) # evaluate anonymous function\n",
    "    if toggle0 == 0 :\n",
    "        #check if x is zero, or should be zero, avoid integrating round off error \n",
    "        #print('here')\n",
    "        toggle0 = 1\n",
    "        return 0\n",
    "    else:\n",
    "        #print(toggle0)\n",
    "        #return integrate.quad(lambda r: x(r)*r**2 ,0, np.inf)[0]\n",
    "        return integrate.quad(lambda r: x(r)*4*pi*r**2 ,0, np.inf)[0]"
   ]
  },
  {
   "cell_type": "code",
   "execution_count": 287,
   "id": "d045ea49-a971-49e7-a4a0-32e5a586f428",
   "metadata": {},
   "outputs": [
    {
     "name": "stdout",
     "output_type": "stream",
     "text": [
      "[ 0.13851798  0.68759927 12.31983693  0.61656373  0.47371272  0.04322734\n",
      "  0.17792719]\n"
     ]
    }
   ],
   "source": [
    "#a array\n",
    "a = P[0 : num_GTO]\n",
    "#d list\n",
    "d = P[num_GTO : 2*num_GTO]\n",
    "\n",
    "lambd = P[2*num_GTO]\n",
    "\n",
    "main = '''\n",
    "#All integral definitions\n",
    "#B_integral = lambda i : integ(lambda r:(STO_1(r) - (1-lambd)*({0}))*par_GTO(r,i))\n",
    "B_integral = lambda i : integ(lambda r:(STO_1(r) - (1)*({0}))*par_GTO(r,i))\n",
    "\n",
    "lambd_integral = lambda i : integ(lambda r:({0})*par_GTO(r,i))\n",
    "\n",
    "W_integral = lambda j,k : (1-lambd)*(integ(lambda r: par_GTO(r,j)*par_GTO(r,k))\\\n",
    "+ integ(lambda r: ({0})*double_par_GTO(r,j,k)))\\\n",
    "- integ(lambda r: (STO_1(r)*double_par_GTO(r,j,k)))\n",
    "\n",
    "#B\n",
    "list_B = [B_integral(i) for i in range(1,2*num_GTO + 1)] + \\\n",
    "[0.5*(1 - integ(lambda r: (({0})**2 )))]\n",
    "array_B = np.array(list_B)\n",
    "\n",
    "#for our lagrange multiplier\n",
    "last_row = [lambd_integral(k) for k in range (1,2*num_GTO+1)]\\\n",
    "+[0]\n",
    "\n",
    "'''.format(str_chi)\n",
    "\n",
    "exec(main)\n",
    "\n",
    "# list_W contains many lists, which are rows each\n",
    "list_W = [[W_integral(j,k) for k in range (1,2*num_GTO+1)]\\\n",
    "          + [lambd_integral(j)] for j in range (1,2*num_GTO+1)]\\\n",
    "            + [last_row]\n",
    "\n",
    "array_W = np.array(list_W)\n",
    "\n",
    "solution = np.linalg.solve(array_W, array_B)\n",
    "P += solution\n",
    "\n",
    "print(P)"
   ]
  },
  {
   "cell_type": "code",
   "execution_count": 288,
   "id": "aacb70e8-c6d2-4c80-94f0-cb8376e8cb2a",
   "metadata": {},
   "outputs": [
    {
     "name": "stdout",
     "output_type": "stream",
     "text": [
      "1.0010595491634031\n"
     ]
    }
   ],
   "source": [
    "main = '''\n",
    "print(integ(lambda r: ({0})**2))'''.format(str_chi)\n",
    "\n",
    "exec(main)"
   ]
  },
  {
   "cell_type": "code",
   "execution_count": 289,
   "id": "d37266f8-3217-492e-b4b5-071c240720cb",
   "metadata": {},
   "outputs": [
    {
     "data": {
      "text/plain": [
       "[<matplotlib.lines.Line2D at 0xffff7c383280>]"
      ]
     },
     "execution_count": 289,
     "metadata": {},
     "output_type": "execute_result"
    },
    {
     "data": {
      "image/png": "[encoded data removed]",
      "text/plain": [
       "<Figure size 432x288 with 1 Axes>"
      ]
     },
     "metadata": {
      "needs_background": "light"
     },
     "output_type": "display_data"
    }
   ],
   "source": [
    "main = '''\n",
    "CGF = lambda r: {0}\n",
    "'''.format(str_chi)\n",
    "\n",
    "exec(main)\n",
    "\n",
    "x = np.linspace(0,10,100)\n",
    "plt.plot(CGF(x))\n",
    "plt.plot(STO_1(x))"
   ]
  },
  {
   "cell_type": "code",
   "execution_count": 269,
   "id": "28d6ff8e-d13f-4305-ae0c-88453db4ce12",
   "metadata": {},
   "outputs": [
    {
     "data": {
      "text/plain": [
       "array([ 0.00390718, -0.00749698,  0.24923649, -0.03951584,  0.0607042 ,\n",
       "       -0.00691285, -0.00132911])"
      ]
     },
     "execution_count": 269,
     "metadata": {},
     "output_type": "execute_result"
    }
   ],
   "source": [
    "solution"
   ]
  },
  {
   "cell_type": "code",
   "execution_count": null,
   "id": "4fbbd194-7f92-4244-84a9-622c5794ebb4",
   "metadata": {},
   "outputs": [],
   "source": []
  }
 ],
 "metadata": {
  "kernelspec": {
   "display_name": "Python 3",
   "language": "python",
   "name": "python3"
  },
  "language_info": {
   "codemirror_mode": {
    "name": "ipython",
    "version": 3
   },
   "file_extension": ".py",
   "mimetype": "text/x-python",
   "name": "python",
   "nbconvert_exporter": "python",
   "pygments_lexer": "ipython3",
   "version": "3.9.5"
  }
 },
 "nbformat": 4,
 "nbformat_minor": 5
}
