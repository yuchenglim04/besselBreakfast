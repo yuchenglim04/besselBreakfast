{
 "cells": [
  {
   "cell_type": "code",
   "execution_count": 2,
   "id": "446094e2-2dc5-4f2c-a2e9-b2725d5f5afd",
   "metadata": {},
   "outputs": [],
   "source": [
    "import scipy.integrate as integrate #nsubmodule\n",
    "import numpy as np\n",
    "import matplotlib.pyplot as plt\n",
    "pi = np.pi"
   ]
  },
  {
   "cell_type": "markdown",
   "id": "0a44267d-c994-4401-80d2-b2f23160683a",
   "metadata": {},
   "source": [
    "Added lambda, fixed integral, P cannot be all same otherwise singular matrix\n",
    "\n",
    "also, nan will occur when a value negative."
   ]
  },
  {
   "cell_type": "markdown",
   "id": "06fb410e-34e9-4353-9ba4-b14fc9e42a75",
   "metadata": {},
   "source": [
    "# V2"
   ]
  },
  {
   "cell_type": "markdown",
   "id": "f38c73a7-c7f8-49f0-9b31-6de64469b940",
   "metadata": {},
   "source": [
    "({0}), not {0}!\n",
    "\n",
    "Very sensitive to initial guess, might not converge if too far, given we used a first order approximation.\n",
    "\n",
    "Proof of concept!:"
   ]
  },
  {
   "cell_type": "code",
   "execution_count": 3,
   "id": "e706fcd2-61b6-4a4c-a609-7efb14176997",
   "metadata": {},
   "outputs": [
    {
     "name": "stdin",
     "output_type": "stream",
     "text": [
      "how many GTOs? 2\n"
     ]
    }
   ],
   "source": [
    "num_GTO = int(input('how many GTOs?'))\n",
    "\n",
    "#to set integral to 0 if toggle0 == 0\n",
    "toggle0 = 1\n",
    "\n",
    "# initial value of P (guess)\n",
    "#P = np.zeros(2*num_GTO + 1) + 0.1\n",
    "P = np.array([i*0.1 for i in range (1,2*num_GTO + 2)])\n",
    "#P = np.array([i*0.5 for i in range (1,2*num_GTO + 2)])\n",
    "\n",
    "#P = [0.1, 0.4, 2.22, 0.44, 0.53, 0.15, 0.3]\n",
    "\n",
    "# P = np.array([0.151623,0.851819,0.678914,0.430129,0.1])\n",
    "\n",
    "#add GTOs to chi\n",
    "str_chi = 'd[0]*GTO_1(r,a[0])'\n",
    "\n",
    "for i in range(2, num_GTO +1):\n",
    "    str_chi += '+ d[{0}]*GTO_1(r,a[{0}]) '.format(i-1)\n",
    "\n",
    "\n",
    "GTO_1 = lambda r,a: (2*a/pi)**(3/4)*np.exp(-a*r**2)\n",
    "STO_1 = lambda r: pi**(-1/2)*np.exp(-r)\n",
    "\n",
    "def par_GTO(r,i):\n",
    "    global toggle0\n",
    "    if i <= num_GTO:\n",
    "        #a_i derivative\n",
    "        return d[i-1]*(3/(4*a[i-1]) - r**2)*GTO_1(r,a[i-1])\n",
    "    elif i > num_GTO:\n",
    "        #b_i derivative\n",
    "        return GTO_1(r,a[i-1-num_GTO])\n",
    "    '''\n",
    "    elif i == 2*num_GTO + 1:\n",
    "        toggle0 = 0\n",
    "        return 0\n",
    "    '''\n",
    "\n",
    "def double_par_GTO(r,j,k):\n",
    "    global toggle0\n",
    "    if j==k:\n",
    "        if j <= num_GTO:\n",
    "            return d[j-1]*((3/(4*a[j-1]) - r**2)**2 - 3/(4*a[j-1]**2))*GTO_1(r,a[j-1])\n",
    "        else:\n",
    "            toggle0 = 0\n",
    "            return 0\n",
    "    elif max(j,k) > num_GTO and min(j,k) <= num_GTO:\n",
    "        #a_i and d_i derivative\n",
    "        i = min(j,k)\n",
    "        return (3/(4*a[i-1]) - r**2)*(GTO_1(r,a[i-1]))\n",
    "    else:\n",
    "        toggle0 = 0\n",
    "        return 0\n",
    "\n",
    "def integ(x):\n",
    "    global toggle0\n",
    "    '''\n",
    "    if x(1) == 0 :\n",
    "        #check if x is zero, or should be zero, avoid integrating round off error \n",
    "        print('here')\n",
    "        \n",
    "        return 0\n",
    "    '''\n",
    "    x(1) # evaluate anonymous function, otherwise, you will not be able to check whether it is zero.\n",
    "    if toggle0 == 0 :\n",
    "        #check if x is zero, or should be zero, avoid integrating round off error \n",
    "        toggle0 = 1\n",
    "        return 0\n",
    "    else:\n",
    "        #print(toggle0)\n",
    "        #return integrate.quad(lambda r: x(r)*r**2 ,0, np.inf)[0]\n",
    "        return integrate.quad(lambda r: x(r)*4*pi*r**2 ,0, np.inf)[0]"
   ]
  },
  {
   "cell_type": "code",
   "execution_count": 19,
   "id": "d045ea49-a971-49e7-a4a0-32e5a586f428",
   "metadata": {},
   "outputs": [
    {
     "name": "stdout",
     "output_type": "stream",
     "text": [
      "[ 2.12580020e-01  4.32546744e-01 -2.26747877e+00  2.42727675e+00\n",
      "  3.79909914e+04]\n"
     ]
    }
   ],
   "source": [
    "#a array\n",
    "a = P[0 : num_GTO]\n",
    "#d list\n",
    "d = P[num_GTO : 2*num_GTO]\n",
    "\n",
    "lambd = P[2*num_GTO]\n",
    "\n",
    "main = '''\n",
    "#All integral definitions\n",
    "B_integral = lambda i : integ(lambda r:(STO_1(r) - (1-lambd)*({0}))*par_GTO(r,i))\n",
    "#B_integral = lambda i : integ(lambda r:(STO_1(r) - (1)*({0}))*par_GTO(r,i))\n",
    "\n",
    "lambd_integral = lambda i : integ(lambda r:({0})*par_GTO(r,i))\n",
    "\n",
    "W_integral = lambda j,k : (1-lambd)*(integ(lambda r: par_GTO(r,j)*par_GTO(r,k))\\\n",
    "+ integ(lambda r: ({0})*double_par_GTO(r,j,k)))\\\n",
    "- integ(lambda r: (STO_1(r)*double_par_GTO(r,j,k)))\n",
    "\n",
    "#B\n",
    "list_B = [B_integral(i) for i in range(1,2*num_GTO + 1)] + \\\n",
    "[0.5*(1 - integ(lambda r: (({0})**2 )))]\n",
    "array_B = np.array(list_B)\n",
    "\n",
    "#for our lagrange multiplier\n",
    "last_row = [lambd_integral(k) for k in range (1,2*num_GTO+1)]\\\n",
    "+[0]\n",
    "\n",
    "'''.format(str_chi)\n",
    "\n",
    "exec(main)\n",
    "\n",
    "# list_W contains many lists, which are rows each\n",
    "list_W = [[W_integral(j,k) for k in range (1,2*num_GTO+1)]\\\n",
    "          + [lambd_integral(j)] for j in range (1,2*num_GTO+1)]\\\n",
    "            + [last_row]\n",
    "\n",
    "array_W = np.array(list_W)\n",
    "\n",
    "#solution must be a small number, otherwise first order approximation will be invalid.\n",
    "solution = np.linalg.solve(array_W, array_B)\n",
    "P += solution\n",
    "\n",
    "print(P)"
   ]
  },
  {
   "cell_type": "code",
   "execution_count": 20,
   "id": "aacb70e8-c6d2-4c80-94f0-cb8376e8cb2a",
   "metadata": {},
   "outputs": [
    {
     "name": "stdout",
     "output_type": "stream",
     "text": [
      "0.9999999982713969\n"
     ]
    }
   ],
   "source": [
    "main = '''\n",
    "print(integ(lambda r: ({0})**2))'''.format(str_chi)\n",
    "\n",
    "exec(main)"
   ]
  },
  {
   "cell_type": "code",
   "execution_count": 22,
   "id": "d37266f8-3217-492e-b4b5-071c240720cb",
   "metadata": {},
   "outputs": [
    {
     "data": {
      "text/plain": [
       "[<matplotlib.lines.Line2D at 0xffff5569b9a0>]"
      ]
     },
     "execution_count": 22,
     "metadata": {},
     "output_type": "execute_result"
    },
    {
     "data": {
      "image/png": "[encoded data removed]",
      "text/plain": [
       "<Figure size 432x288 with 1 Axes>"
      ]
     },
     "metadata": {
      "needs_background": "light"
     },
     "output_type": "display_data"
    }
   ],
   "source": [
    "main = '''\n",
    "CGF = lambda r: {0}\n",
    "'''.format(str_chi)\n",
    "\n",
    "exec(main)\n",
    "\n",
    "x = np.linspace(0,10,100)\n",
    "plt.plot(CGF(x))\n",
    "plt.plot(STO_1(x))"
   ]
  },
  {
   "cell_type": "code",
   "execution_count": 23,
   "id": "28d6ff8e-d13f-4305-ae0c-88453db4ce12",
   "metadata": {},
   "outputs": [
    {
     "data": {
      "text/plain": [
       "array([ 6.16515954e-06, -3.51996959e-06, -1.65662060e-04,  1.06847273e-04,\n",
       "        1.89950695e+04])"
      ]
     },
     "execution_count": 23,
     "metadata": {},
     "output_type": "execute_result"
    }
   ],
   "source": [
    "solution"
   ]
  },
  {
   "cell_type": "code",
   "execution_count": null,
   "id": "4fbbd194-7f92-4244-84a9-622c5794ebb4",
   "metadata": {},
   "outputs": [],
   "source": []
  }
 ],
 "metadata": {
  "kernelspec": {
   "display_name": "Python 3",
   "language": "python",
   "name": "python3"
  },
  "language_info": {
   "codemirror_mode": {
    "name": "ipython",
    "version": 3
   },
   "file_extension": ".py",
   "mimetype": "text/x-python",
   "name": "python",
   "nbconvert_exporter": "python",
   "pygments_lexer": "ipython3",
   "version": "3.9.5"
  }
 },
 "nbformat": 4,
 "nbformat_minor": 5
}
